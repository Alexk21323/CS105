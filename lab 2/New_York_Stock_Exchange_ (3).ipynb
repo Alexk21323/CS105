{
 "cells": [
  {
   "cell_type": "markdown",
   "metadata": {
    "id": "XX-ak0jjkb1p"
   },
   "source": [
    "Name: Alex Kuang"
   ]
  },
  {
   "cell_type": "markdown",
   "metadata": {
    "id": "KJ9dL54Lkb1s"
   },
   "source": [
    "This example is based on the EDA example in Doing Data Science Ch. 2. There are 31 datasets named nyt1.csv, nyt2.csv,…,nyt31.csv, which you can find here: https://github.com/oreillymedia/doing_data_science. I have already downloaded the dataset for you to use under the folder: /nytdata\n",
    "\n",
    "Each file represents one (simulated) day’s worth of ads shown and clicks recorded on the New York Times home page in May 2012. Each row represents a single user. There are five columns: age, gender (0=female, 1=male), number impressions, number clicks, and logged-in."
   ]
  },
  {
   "cell_type": "code",
   "execution_count": 1,
   "metadata": {
    "id": "Y_q87BG3kb1t"
   },
   "outputs": [],
   "source": [
    "import pandas as pd\n",
    "import matplotlib.pyplot as plt"
   ]
  },
  {
   "cell_type": "markdown",
   "metadata": {
    "id": "4HTs_uBNkb1u"
   },
   "source": [
    "Lets start off analyzing one file"
   ]
  },
  {
   "cell_type": "code",
   "execution_count": 2,
   "metadata": {
    "id": "I5Mk2uDKkb1u",
    "outputId": "6af321c7-e899-4091-c9ad-07cde5e3a74b"
   },
   "outputs": [
    {
     "data": {
      "text/html": [
       "<div>\n",
       "<style scoped>\n",
       "    .dataframe tbody tr th:only-of-type {\n",
       "        vertical-align: middle;\n",
       "    }\n",
       "\n",
       "    .dataframe tbody tr th {\n",
       "        vertical-align: top;\n",
       "    }\n",
       "\n",
       "    .dataframe thead th {\n",
       "        text-align: right;\n",
       "    }\n",
       "</style>\n",
       "<table border=\"1\" class=\"dataframe\">\n",
       "  <thead>\n",
       "    <tr style=\"text-align: right;\">\n",
       "      <th></th>\n",
       "      <th>Age</th>\n",
       "      <th>Gender</th>\n",
       "      <th>Impressions</th>\n",
       "      <th>Clicks</th>\n",
       "      <th>Signed_In</th>\n",
       "    </tr>\n",
       "  </thead>\n",
       "  <tbody>\n",
       "    <tr>\n",
       "      <th>0</th>\n",
       "      <td>36</td>\n",
       "      <td>0</td>\n",
       "      <td>3</td>\n",
       "      <td>0</td>\n",
       "      <td>1</td>\n",
       "    </tr>\n",
       "    <tr>\n",
       "      <th>1</th>\n",
       "      <td>73</td>\n",
       "      <td>1</td>\n",
       "      <td>3</td>\n",
       "      <td>0</td>\n",
       "      <td>1</td>\n",
       "    </tr>\n",
       "    <tr>\n",
       "      <th>2</th>\n",
       "      <td>30</td>\n",
       "      <td>0</td>\n",
       "      <td>3</td>\n",
       "      <td>0</td>\n",
       "      <td>1</td>\n",
       "    </tr>\n",
       "    <tr>\n",
       "      <th>3</th>\n",
       "      <td>49</td>\n",
       "      <td>1</td>\n",
       "      <td>3</td>\n",
       "      <td>0</td>\n",
       "      <td>1</td>\n",
       "    </tr>\n",
       "    <tr>\n",
       "      <th>4</th>\n",
       "      <td>47</td>\n",
       "      <td>1</td>\n",
       "      <td>11</td>\n",
       "      <td>0</td>\n",
       "      <td>1</td>\n",
       "    </tr>\n",
       "  </tbody>\n",
       "</table>\n",
       "</div>"
      ],
      "text/plain": [
       "   Age  Gender  Impressions  Clicks  Signed_In\n",
       "0   36       0            3       0          1\n",
       "1   73       1            3       0          1\n",
       "2   30       0            3       0          1\n",
       "3   49       1            3       0          1\n",
       "4   47       1           11       0          1"
      ]
     },
     "execution_count": 2,
     "metadata": {},
     "output_type": "execute_result"
    }
   ],
   "source": [
    "df =  pd.read_csv(\"dds_ch2_nyt/nyt1.csv\") # read-in one file \n",
    "df.head()"
   ]
  },
  {
   "cell_type": "markdown",
   "metadata": {
    "id": "-VkITF4fkb1v"
   },
   "source": [
    "Once you have the data loaded, it’s time for some EDA:\n",
    "\n"
   ]
  },
  {
   "cell_type": "markdown",
   "metadata": {
    "id": "bb3zMynFkb1v"
   },
   "source": [
    "Create a new variable, age_group, that categorizes users as \"<18\", \"18-24\", \"25-34\", \"35-44\", \"45-54\", \"55-64\", and \"65+\"."
   ]
  },
  {
   "cell_type": "code",
   "execution_count": 3,
   "metadata": {
    "id": "xhGK6E4_kb1v"
   },
   "outputs": [],
   "source": [
    "bins= [0,18,25,35,45,55,65,108]\n",
    "labels = ['<18','18-24','25-34','35-44','45-54','55-64','65+']\n",
    "df['age_group'] = pd.cut(df['Age'], bins=bins, labels=labels, right=False)\n"
   ]
  },
  {
   "cell_type": "code",
   "execution_count": 4,
   "metadata": {
    "id": "1JRmdz-Okb1w",
    "outputId": "68a90773-da52-496e-8b70-7530901e5d5b"
   },
   "outputs": [
    {
     "data": {
      "text/plain": [
       "<AxesSubplot:>"
      ]
     },
     "execution_count": 4,
     "metadata": {},
     "output_type": "execute_result"
    },
    {
     "data": {
      "image/png": "[encoded data removed]",
      "text/plain": [
       "<Figure size 432x288 with 1 Axes>"
      ]
     },
     "metadata": {
      "needs_background": "light"
     },
     "output_type": "display_data"
    }
   ],
   "source": [
    "df['age_group'].value_counts().plot(kind='bar')"
   ]
  },
  {
   "cell_type": "markdown",
   "metadata": {
    "id": "4ot_MJQlkb1w"
   },
   "source": [
    "Plot the distributions of number impressions and click-through-rate for these six age categories."
   ]
  },
  {
   "cell_type": "code",
   "execution_count": 5,
   "metadata": {
    "id": "PRp0JIWgkb1x"
   },
   "outputs": [
    {
     "data": {
      "image/png": "[encoded data removed]",
      "text/plain": [
       "<Figure size 432x288 with 9 Axes>"
      ]
     },
     "metadata": {
      "needs_background": "light"
     },
     "output_type": "display_data"
    }
   ],
   "source": [
    "#TODO plot number of impressions\n",
    "plt1 = df['Impressions'].hist(by=df['age_group'], rot=0, sharex=True, sharey=True)\n",
    "for plt in plt1.flatten():\n",
    "    plt.set_xlabel(\"Impressions\")\n",
    "    plt.set_ylabel(\"Counts\")"
   ]
  },
  {
   "cell_type": "markdown",
   "metadata": {},
   "source": [
    "The plot shows the distribution of Impressions amoung each age group, x-axis the number of impressiosn and y-axis the number of people"
   ]
  },
  {
   "cell_type": "code",
   "execution_count": 6,
   "metadata": {
    "id": "kZFJ3xD4kb1x"
   },
   "outputs": [
    {
     "data": {
      "image/png": "[encoded data removed]",
      "text/plain": [
       "<Figure size 432x288 with 9 Axes>"
      ]
     },
     "metadata": {
      "needs_background": "light"
     },
     "output_type": "display_data"
    }
   ],
   "source": [
    "# TODO plot number of clicks\n",
    "plt2 = df['Clicks'].hist(by=df['age_group'], rot=0, sharey=True)\n",
    "for ax in plt2.flatten():\n",
    "    ax.set_xlabel(\"Clicks\")\n",
    "    ax.set_xlabel(\"Counts\")"
   ]
  },
  {
   "cell_type": "markdown",
   "metadata": {},
   "source": [
    "The plot shows the distribution of Impressions amoung each age group, x-axis the number of clicksand y-axis the number of people"
   ]
  },
  {
   "cell_type": "markdown",
   "metadata": {
    "id": "3HU50I6-kb1x"
   },
   "source": [
    "Explore the data and make visual and quantitative comparisons across user segments/demographics (<18-year-old males versus < 18-year-old females or logged-in versus not, for example)."
   ]
  },
  {
   "cell_type": "code",
   "execution_count": 7,
   "metadata": {
    "id": "L3cNIKTGkb1x"
   },
   "outputs": [
    {
     "data": {
      "text/plain": [
       "Gender\n",
       "0    AxesSubplot(0.125,0.125;0.775x0.755)\n",
       "1    AxesSubplot(0.125,0.125;0.775x0.755)\n",
       "Name: Impressions, dtype: object"
      ]
     },
     "execution_count": 7,
     "metadata": {},
     "output_type": "execute_result"
    },
    {
     "data": {
      "image/png": "[encoded data removed]",
      "text/plain": [
       "<Figure size 432x288 with 1 Axes>"
      ]
     },
     "metadata": {
      "needs_background": "light"
     },
     "output_type": "display_data"
    }
   ],
   "source": [
    "# TODO\n",
    "plt3 = pd.DataFrame(df[df['age_group']=='<18'])\n",
    "plt3['Impressions'].groupby(plt3['Gender']).hist()"
   ]
  },
  {
   "cell_type": "markdown",
   "metadata": {},
   "source": [
    "The graph shows the comparsion Impressions between male and female under the age of 18, blue represens female and orange represents male"
   ]
  },
  {
   "cell_type": "code",
   "execution_count": 8,
   "metadata": {},
   "outputs": [
    {
     "data": {
      "text/plain": [
       "Gender\n",
       "0    AxesSubplot(0.125,0.125;0.775x0.755)\n",
       "1    AxesSubplot(0.125,0.125;0.775x0.755)\n",
       "Name: Clicks, dtype: object"
      ]
     },
     "execution_count": 8,
     "metadata": {},
     "output_type": "execute_result"
    },
    {
     "data": {
      "image/png": "[encoded data removed]",
      "text/plain": [
       "<Figure size 432x288 with 1 Axes>"
      ]
     },
     "metadata": {
      "needs_background": "light"
     },
     "output_type": "display_data"
    }
   ],
   "source": [
    "plt3['Clicks'].groupby(plt3['Gender']).hist(label=['Female', 'Male'])"
   ]
  },
  {
   "cell_type": "markdown",
   "metadata": {},
   "source": [
    "The graph shows the comparsion Clicks between male and female under the age of 18. blue represents female and orange represents male"
   ]
  },
  {
   "cell_type": "markdown",
   "metadata": {
    "id": "2Mbv3wMqkb1x"
   },
   "source": [
    "We analyzed just one file, but the dataset includes 31 files. You can easily aggregate the results into one dataframe as shown below. "
   ]
  },
  {
   "cell_type": "code",
   "execution_count": 9,
   "metadata": {
    "id": "rJ8OmC-Bkb1y",
    "outputId": "bc1daa24-9e76-4901-d94e-40d30f2e9779"
   },
   "outputs": [
    {
     "data": {
      "text/html": [
       "<div>\n",
       "<style scoped>\n",
       "    .dataframe tbody tr th:only-of-type {\n",
       "        vertical-align: middle;\n",
       "    }\n",
       "\n",
       "    .dataframe tbody tr th {\n",
       "        vertical-align: top;\n",
       "    }\n",
       "\n",
       "    .dataframe thead th {\n",
       "        text-align: right;\n",
       "    }\n",
       "</style>\n",
       "<table border=\"1\" class=\"dataframe\">\n",
       "  <thead>\n",
       "    <tr style=\"text-align: right;\">\n",
       "      <th></th>\n",
       "      <th>Age</th>\n",
       "      <th>Gender</th>\n",
       "      <th>Impressions</th>\n",
       "      <th>Clicks</th>\n",
       "      <th>Signed_In</th>\n",
       "      <th>filename</th>\n",
       "    </tr>\n",
       "  </thead>\n",
       "  <tbody>\n",
       "    <tr>\n",
       "      <th>0</th>\n",
       "      <td>63</td>\n",
       "      <td>1</td>\n",
       "      <td>2</td>\n",
       "      <td>0</td>\n",
       "      <td>1</td>\n",
       "      <td>dds_ch2_nyt/nyt17.csv</td>\n",
       "    </tr>\n",
       "    <tr>\n",
       "      <th>1</th>\n",
       "      <td>0</td>\n",
       "      <td>0</td>\n",
       "      <td>7</td>\n",
       "      <td>0</td>\n",
       "      <td>0</td>\n",
       "      <td>dds_ch2_nyt/nyt17.csv</td>\n",
       "    </tr>\n",
       "    <tr>\n",
       "      <th>2</th>\n",
       "      <td>0</td>\n",
       "      <td>0</td>\n",
       "      <td>8</td>\n",
       "      <td>0</td>\n",
       "      <td>0</td>\n",
       "      <td>dds_ch2_nyt/nyt17.csv</td>\n",
       "    </tr>\n",
       "    <tr>\n",
       "      <th>3</th>\n",
       "      <td>0</td>\n",
       "      <td>0</td>\n",
       "      <td>4</td>\n",
       "      <td>0</td>\n",
       "      <td>0</td>\n",
       "      <td>dds_ch2_nyt/nyt17.csv</td>\n",
       "    </tr>\n",
       "    <tr>\n",
       "      <th>4</th>\n",
       "      <td>61</td>\n",
       "      <td>1</td>\n",
       "      <td>6</td>\n",
       "      <td>0</td>\n",
       "      <td>1</td>\n",
       "      <td>dds_ch2_nyt/nyt17.csv</td>\n",
       "    </tr>\n",
       "    <tr>\n",
       "      <th>...</th>\n",
       "      <td>...</td>\n",
       "      <td>...</td>\n",
       "      <td>...</td>\n",
       "      <td>...</td>\n",
       "      <td>...</td>\n",
       "      <td>...</td>\n",
       "    </tr>\n",
       "    <tr>\n",
       "      <th>14905860</th>\n",
       "      <td>36</td>\n",
       "      <td>1</td>\n",
       "      <td>5</td>\n",
       "      <td>0</td>\n",
       "      <td>1</td>\n",
       "      <td>dds_ch2_nyt/nyt11.csv</td>\n",
       "    </tr>\n",
       "    <tr>\n",
       "      <th>14905861</th>\n",
       "      <td>38</td>\n",
       "      <td>0</td>\n",
       "      <td>3</td>\n",
       "      <td>0</td>\n",
       "      <td>1</td>\n",
       "      <td>dds_ch2_nyt/nyt11.csv</td>\n",
       "    </tr>\n",
       "    <tr>\n",
       "      <th>14905862</th>\n",
       "      <td>0</td>\n",
       "      <td>0</td>\n",
       "      <td>8</td>\n",
       "      <td>0</td>\n",
       "      <td>0</td>\n",
       "      <td>dds_ch2_nyt/nyt11.csv</td>\n",
       "    </tr>\n",
       "    <tr>\n",
       "      <th>14905863</th>\n",
       "      <td>31</td>\n",
       "      <td>1</td>\n",
       "      <td>5</td>\n",
       "      <td>0</td>\n",
       "      <td>1</td>\n",
       "      <td>dds_ch2_nyt/nyt11.csv</td>\n",
       "    </tr>\n",
       "    <tr>\n",
       "      <th>14905864</th>\n",
       "      <td>18</td>\n",
       "      <td>1</td>\n",
       "      <td>5</td>\n",
       "      <td>0</td>\n",
       "      <td>1</td>\n",
       "      <td>dds_ch2_nyt/nyt11.csv</td>\n",
       "    </tr>\n",
       "  </tbody>\n",
       "</table>\n",
       "<p>14905865 rows × 6 columns</p>\n",
       "</div>"
      ],
      "text/plain": [
       "          Age  Gender  Impressions  Clicks  Signed_In               filename\n",
       "0          63       1            2       0          1  dds_ch2_nyt/nyt17.csv\n",
       "1           0       0            7       0          0  dds_ch2_nyt/nyt17.csv\n",
       "2           0       0            8       0          0  dds_ch2_nyt/nyt17.csv\n",
       "3           0       0            4       0          0  dds_ch2_nyt/nyt17.csv\n",
       "4          61       1            6       0          1  dds_ch2_nyt/nyt17.csv\n",
       "...       ...     ...          ...     ...        ...                    ...\n",
       "14905860   36       1            5       0          1  dds_ch2_nyt/nyt11.csv\n",
       "14905861   38       0            3       0          1  dds_ch2_nyt/nyt11.csv\n",
       "14905862    0       0            8       0          0  dds_ch2_nyt/nyt11.csv\n",
       "14905863   31       1            5       0          1  dds_ch2_nyt/nyt11.csv\n",
       "14905864   18       1            5       0          1  dds_ch2_nyt/nyt11.csv\n",
       "\n",
       "[14905865 rows x 6 columns]"
      ]
     },
     "execution_count": 9,
     "metadata": {},
     "output_type": "execute_result"
    }
   ],
   "source": [
    "import glob # used to read mutliple-files \n",
    "files = glob.glob('dds_ch2_nyt/nyt*.csv')\n",
    "dfs = []\n",
    "for file in files:\n",
    "    df = pd.read_csv(file)\n",
    "    df['filename'] = file\n",
    "    dfs.append(df)\n",
    "df = pd.concat(dfs, ignore_index=True)\n",
    "df"
   ]
  },
  {
   "cell_type": "markdown",
   "metadata": {
    "id": "4J0JRQ8bkb1y"
   },
   "source": [
    "Analyze trends over time since we now have a historic view of the data over 31 days. You can examine how clicks or impresssions change over time by using the filename as the date field. "
   ]
  },
  {
   "cell_type": "code",
   "execution_count": 10,
   "metadata": {
    "id": "BVssUZebkb1y"
   },
   "outputs": [
    {
     "data": {
      "text/plain": [
       "<AxesSubplot:xlabel='filename'>"
      ]
     },
     "execution_count": 10,
     "metadata": {},
     "output_type": "execute_result"
    },
    {
     "data": {
      "image/png": "[encoded data removed]",
      "text/plain": [
       "<Figure size 432x288 with 1 Axes>"
      ]
     },
     "metadata": {
      "needs_background": "light"
     },
     "output_type": "display_data"
    }
   ],
   "source": [
    "# TODO \n",
    "import matplotlib \n",
    "# df['filename'].str.split('/nyt')\n",
    "# df.sort_index(key=df['filename'][1])\n",
    "df['filename'] = df['filename'].str.lstrip('dds_ch2_nyt/nyt')\n",
    "df['filename'] = df['filename'].str.rstrip('.csv')\n",
    "df['filename'] = pd.to_numeric(df['filename'])\n",
    "plt5 = df.groupby('filename')['Impressions'].mean()\n",
    "plt5.plot.line()"
   ]
  },
  {
   "cell_type": "markdown",
   "metadata": {},
   "source": [
    "I first have to strip the file name because of the sorting is base on string, after that I can plot it via the column average for each day. \n",
    "The graph shows the average impressions of each day."
   ]
  },
  {
   "cell_type": "code",
   "execution_count": null,
   "metadata": {},
   "outputs": [],
   "source": []
  }
 ],
 "metadata": {
  "colab": {
   "name": "New York Stock Exchange .ipynb",
   "provenance": []
  },
  "kernelspec": {
   "display_name": "Python 3",
   "language": "python",
   "name": "python3"
  },
  "language_info": {
   "codemirror_mode": {
    "name": "ipython",
    "version": 3
   },
   "file_extension": ".py",
   "mimetype": "text/x-python",
   "name": "python",
   "nbconvert_exporter": "python",
   "pygments_lexer": "ipython3",
   "version": "3.8.10"
  }
 },
 "nbformat": 4,
 "nbformat_minor": 4
}
