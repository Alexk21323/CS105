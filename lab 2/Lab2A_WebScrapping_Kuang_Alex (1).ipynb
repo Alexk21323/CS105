{
 "cells": [
  {
   "cell_type": "code",
   "execution_count": 1,
   "id": "35b41f5a-638b-49c8-97d4-0f511d3a5c4f",
   "metadata": {},
   "outputs": [],
   "source": [
    "import requests \n",
    "response = requests.get(\"https://www.imdb.com/list/ls050274118/\")\n",
    "import pandas as pd"
   ]
  },
  {
   "cell_type": "markdown",
   "id": "00e35a59-a206-4e5b-83da-27e4886415c1",
   "metadata": {},
   "source": [
    "Import Necessary Libraries and get request from website"
   ]
  },
  {
   "cell_type": "code",
   "execution_count": 2,
   "id": "8d8ac453-ec9d-4a2f-b7ef-da369fcaff5d",
   "metadata": {},
   "outputs": [
    {
     "data": {
      "text/plain": [
       "'Top 100 Greatest Actors of All Time (The Ultimate List) - IMDb'"
      ]
     },
     "execution_count": 2,
     "metadata": {},
     "output_type": "execute_result"
    }
   ],
   "source": [
    "from bs4 import BeautifulSoup\n",
    "soup = BeautifulSoup(response.content, \"html.parser\")\n",
    "soup.title.text"
   ]
  },
  {
   "cell_type": "markdown",
   "id": "37f14b07-4364-4b63-947d-ce8659a03115",
   "metadata": {},
   "source": [
    "Import beatifual soup and show title "
   ]
  },
  {
   "cell_type": "code",
   "execution_count": 3,
   "id": "881871b6-6809-449b-af77-ddb56c1e1c16",
   "metadata": {},
   "outputs": [
    {
     "name": "stdout",
     "output_type": "stream",
     "text": [
      "<div class=\"lister-item mode-detail\">\n",
      "<div class=\"lister-item-image\">\n",
      "<a href=\"/name/nm0000197/\"> <img alt=\"Jack Nicholson\" height=\"209\" src=\"https://m.media-amazon.com/images/M/MV5BMTQ3OTY0ODk0M15BMl5BanBnXkFtZTYwNzE4Njc4._V1_UY209_CR5,0,140,209_AL_.jpg\" width=\"140\"/>\n",
      "</a> </div>\n",
      "<div class=\"lister-item-content\">\n",
      "<h3 class=\"lister-item-header\">\n",
      "<span class=\"lister-item-index unbold text-primary\">1. </span>\n",
      "<a href=\"/name/nm0000197\"> Jack Nicholson\n",
      "</a> </h3>\n",
      "<p class=\"text-muted text-small\">\n",
      "                        Actor <span class=\"ghost\">|</span>\n",
      "<a href=\"/title/tt0071315/\"> Chinatown\n",
      "</a> </p>\n",
      "<p>\n",
      "Jack Nicholson, an American actor, producer, director and screenwriter, is a three-time Academy Award winner and twelve-time nominee. Nicholson is also notable for being one of two actors - the other being <a href=\"/name/nm0000323\">Michael Caine</a> - who have received an Oscar nomination in every decade from the 1960s through ...                </p>\n",
      "</div>\n",
      "<div class=\"clear\"></div>\n",
      "<div class=\"list-description\"><p>Acting Abilities:     <br/><br/>Acting Skill - 5 Stars \n",
      "Overall Versatility - 5 Stars\n",
      "Role Transformation - 5 Stars<br/><br/>Awards &amp; Nominations:<br/><br/>Oscars: 3\n",
      "Oscar Nominations: 12\n",
      "BAFTA Awards: 4\n",
      "BAFTA Nominations: 8\n",
      "Golden Globes: 6\n",
      "Golden Globe Nominations: 17<br/><br/>Greatest Performances:<br/><br/>\"The Shining\" - Level of Difficulty - 5 Stars\n",
      "\"As Good as It Gets\" - Level of Difficulty - 4.8 Stars\n",
      "\"One Flew…….Cuckoo's Nest\" - Level of Difficulty - 5 Stars</p></div> </div>\n"
     ]
    }
   ],
   "source": [
    "names = soup.find_all('div', class_='lister-item mode-detail')\n",
    "print(names[0])"
   ]
  },
  {
   "cell_type": "markdown",
   "id": "f8710944-b94d-4c40-80e0-6b7d3df99d68",
   "metadata": {},
   "source": [
    "Find the class that contains all the actor's data "
   ]
  },
  {
   "cell_type": "code",
   "execution_count": 4,
   "id": "eca861f2-482b-45d0-9270-5f476ffc0d77",
   "metadata": {},
   "outputs": [
    {
     "data": {
      "text/plain": [
       "'Jack Nicholson'"
      ]
     },
     "execution_count": 4,
     "metadata": {},
     "output_type": "execute_result"
    }
   ],
   "source": [
    "first_name = names[0]\n",
    "first_name.h3.a.text.strip(\"\\n\")[1:]"
   ]
  },
  {
   "cell_type": "markdown",
   "id": "507fb150-d1e2-4c12-8eb7-c2f2acf64f01",
   "metadata": {},
   "source": [
    "Try to find the name of the first actor"
   ]
  },
  {
   "cell_type": "code",
   "execution_count": 5,
   "id": "144f3203-4a66-4bb5-8822-a0bf79968a1a",
   "metadata": {},
   "outputs": [
    {
     "data": {
      "text/plain": [
       "['Acting Abilities:     Acting Skill - 5 Stars ',\n",
       " 'Overall Versatility - 5 Stars',\n",
       " 'Role Transformation - 5 StarsAwards & Nominations:Oscars: 3',\n",
       " 'Oscar Nominations: 12',\n",
       " 'BAFTA Awards: 4',\n",
       " 'BAFTA Nominations: 8',\n",
       " 'Golden Globes: 6',\n",
       " 'Golden Globe Nominations: 17Greatest Performances:\"The Shining\" - Level of Difficulty - 5 Stars',\n",
       " '\"As Good as It Gets\" - Level of Difficulty - 4.8 Stars',\n",
       " '\"One Flew…….Cuckoo\\'s Nest\" - Level of Difficulty - 5 Stars']"
      ]
     },
     "execution_count": 5,
     "metadata": {},
     "output_type": "execute_result"
    }
   ],
   "source": [
    "first_name.find('div', class_='list-description').text.split(\"\\n\")"
   ]
  },
  {
   "cell_type": "markdown",
   "id": "08f17429-d9f7-45db-b585-b38b12ea37d8",
   "metadata": {},
   "source": [
    "Find the achivement of the first actor to see the data format"
   ]
  },
  {
   "cell_type": "code",
   "execution_count": 6,
   "id": "940b0582-8118-4355-aa70-5393a2146053",
   "metadata": {},
   "outputs": [
    {
     "name": "stdout",
     "output_type": "stream",
     "text": [
      "{'name': 'Marlon Brando', 'Acting Skills ': '5 Star', 'Overall Versatility': '5 Stars', 'Role Transformation': '5 Stars', 'Oscars': '2', 'Oscars_Nominations': '8', 'BAFTA Awards': '3', 'BAFTA Nominations': '8', 'Golden Globes': '2', 'Golden Globe Nominations': '6'}\n"
     ]
    }
   ],
   "source": [
    "rows = []\n",
    "for actor in names[:]:\n",
    "    name = actor.h3.a.text.strip(\"\\n\")[1:]\n",
    "    Acting_Abilities = actor.find('div', class_='list-description').text.split(\"\\n\")\n",
    "    Acting_Skills = Acting_Abilities[0].strip(\"Acting Abilities:     Acting Skill - \")\n",
    "    Overall_Versatility = Acting_Abilities[1].lstrip(\"Overall Versatility -\")\n",
    "    a = Acting_Abilities[2].split(\"Awards\")\n",
    "    Role_transformation = a[0].lstrip(\"Role Transformation - \")\n",
    "    Oscars = Acting_Abilities[2][-1]\n",
    "    Oscars_Nominations =  Acting_Abilities[3][-1]\n",
    "    BAFTA_Awards = Acting_Abilities[4][-1]\n",
    "    BAFTA_Nominations = Acting_Abilities[5][-1]\n",
    "    Golden_Globes = Acting_Abilities[6][-1]\n",
    "    b = Acting_Abilities[7].split(\"Greatest Performances\")\n",
    "    Golden_Globe_Nominations = b[0].lstrip(\"Golden Globe Nominations: \")\n",
    "    rows.append({\n",
    "        \"name\": name,\n",
    "        \"Acting Skills \": Acting_Skills,\n",
    "        \"Overall Versatility\": Overall_Versatility,\n",
    "        \"Role Transformation\": Role_transformation,\n",
    "        \"Oscars\": Oscars,\n",
    "        \"Oscars_Nominations\": Oscars_Nominations,\n",
    "        \"BAFTA Awards\": BAFTA_Awards,\n",
    "        \"BAFTA Nominations\": BAFTA_Nominations,\n",
    "        \"Golden Globes\": Golden_Globes,\n",
    "        \"Golden Globe Nominations\":Golden_Globe_Nominations\n",
    "    })\n",
    "print(rows[1])\n"
   ]
  },
  {
   "cell_type": "markdown",
   "id": "4f2fbf6d-8d17-4e38-a815-18927797cbd1",
   "metadata": {},
   "source": [
    "Part the string accordingly to each achivement and append them into a list "
   ]
  },
  {
   "cell_type": "code",
   "execution_count": 7,
   "id": "e93f6099-7444-4b3f-8dc3-387ae9a6b647",
   "metadata": {},
   "outputs": [
    {
     "data": {
      "text/html": [
       "<div>\n",
       "<style scoped>\n",
       "    .dataframe tbody tr th:only-of-type {\n",
       "        vertical-align: middle;\n",
       "    }\n",
       "\n",
       "    .dataframe tbody tr th {\n",
       "        vertical-align: top;\n",
       "    }\n",
       "\n",
       "    .dataframe thead th {\n",
       "        text-align: right;\n",
       "    }\n",
       "</style>\n",
       "<table border=\"1\" class=\"dataframe\">\n",
       "  <thead>\n",
       "    <tr style=\"text-align: right;\">\n",
       "      <th></th>\n",
       "      <th>name</th>\n",
       "      <th>Acting Skills</th>\n",
       "      <th>Overall Versatility</th>\n",
       "      <th>Role Transformation</th>\n",
       "      <th>Oscars</th>\n",
       "      <th>Oscars_Nominations</th>\n",
       "      <th>BAFTA Awards</th>\n",
       "      <th>BAFTA Nominations</th>\n",
       "      <th>Golden Globes</th>\n",
       "      <th>Golden Globe Nominations</th>\n",
       "    </tr>\n",
       "  </thead>\n",
       "  <tbody>\n",
       "    <tr>\n",
       "      <th>1</th>\n",
       "      <td>Jack Nicholson</td>\n",
       "      <td>5 Star</td>\n",
       "      <td>5 Stars</td>\n",
       "      <td>5 Stars</td>\n",
       "      <td>3</td>\n",
       "      <td>2</td>\n",
       "      <td>4</td>\n",
       "      <td>8</td>\n",
       "      <td>6</td>\n",
       "      <td>17</td>\n",
       "    </tr>\n",
       "    <tr>\n",
       "      <th>2</th>\n",
       "      <td>Marlon Brando</td>\n",
       "      <td>5 Star</td>\n",
       "      <td>5 Stars</td>\n",
       "      <td>5 Stars</td>\n",
       "      <td>2</td>\n",
       "      <td>8</td>\n",
       "      <td>3</td>\n",
       "      <td>8</td>\n",
       "      <td>2</td>\n",
       "      <td>6</td>\n",
       "    </tr>\n",
       "    <tr>\n",
       "      <th>3</th>\n",
       "      <td>Robert De Niro</td>\n",
       "      <td>5 Star</td>\n",
       "      <td>4.8 Stars</td>\n",
       "      <td>4.9 Stars</td>\n",
       "      <td>2</td>\n",
       "      <td>7</td>\n",
       "      <td>0</td>\n",
       "      <td>6</td>\n",
       "      <td>1</td>\n",
       "      <td>8</td>\n",
       "    </tr>\n",
       "    <tr>\n",
       "      <th>4</th>\n",
       "      <td>Al Pacino</td>\n",
       "      <td>5 Star</td>\n",
       "      <td>4.8 Stars</td>\n",
       "      <td>4.9 Stars</td>\n",
       "      <td>1</td>\n",
       "      <td>8</td>\n",
       "      <td>2</td>\n",
       "      <td>5</td>\n",
       "      <td>4</td>\n",
       "      <td>15</td>\n",
       "    </tr>\n",
       "    <tr>\n",
       "      <th>5</th>\n",
       "      <td>Daniel Day-Lewis</td>\n",
       "      <td>5 Star</td>\n",
       "      <td>5 Stars</td>\n",
       "      <td>5 Stars</td>\n",
       "      <td>3</td>\n",
       "      <td>5</td>\n",
       "      <td>4</td>\n",
       "      <td>6</td>\n",
       "      <td>2</td>\n",
       "      <td>7</td>\n",
       "    </tr>\n",
       "    <tr>\n",
       "      <th>...</th>\n",
       "      <td>...</td>\n",
       "      <td>...</td>\n",
       "      <td>...</td>\n",
       "      <td>...</td>\n",
       "      <td>...</td>\n",
       "      <td>...</td>\n",
       "      <td>...</td>\n",
       "      <td>...</td>\n",
       "      <td>...</td>\n",
       "      <td>...</td>\n",
       "    </tr>\n",
       "    <tr>\n",
       "      <th>96</th>\n",
       "      <td>Alan Rickman</td>\n",
       "      <td>4.6 Star</td>\n",
       "      <td>4.7 Stars</td>\n",
       "      <td>4.7 Stars</td>\n",
       "      <td>0</td>\n",
       "      <td>0</td>\n",
       "      <td>1</td>\n",
       "      <td></td>\n",
       "      <td>1</td>\n",
       "      <td>1</td>\n",
       "    </tr>\n",
       "    <tr>\n",
       "      <th>97</th>\n",
       "      <td>Edward G. Robinson</td>\n",
       "      <td>4.6 Star</td>\n",
       "      <td>4.2 Stars</td>\n",
       "      <td>4.4 Stars</td>\n",
       "      <td>)</td>\n",
       "      <td>)</td>\n",
       "      <td>0</td>\n",
       "      <td>0</td>\n",
       "      <td>0</td>\n",
       "      <td>0</td>\n",
       "    </tr>\n",
       "    <tr>\n",
       "      <th>98</th>\n",
       "      <td>Will Smith</td>\n",
       "      <td>4.7 Star</td>\n",
       "      <td>4.5 Stars</td>\n",
       "      <td>4.6 Stars</td>\n",
       "      <td>0</td>\n",
       "      <td>2</td>\n",
       "      <td>0</td>\n",
       "      <td>0</td>\n",
       "      <td>0</td>\n",
       "      <td>5</td>\n",
       "    </tr>\n",
       "    <tr>\n",
       "      <th>99</th>\n",
       "      <td>John Goodman</td>\n",
       "      <td>4.7 Star</td>\n",
       "      <td>4.5 Stars</td>\n",
       "      <td>4.6 Stars</td>\n",
       "      <td>0</td>\n",
       "      <td>0</td>\n",
       "      <td>0</td>\n",
       "      <td>0</td>\n",
       "      <td>1</td>\n",
       "      <td>5</td>\n",
       "    </tr>\n",
       "    <tr>\n",
       "      <th>100</th>\n",
       "      <td>Buster Keaton</td>\n",
       "      <td>4.7 Star</td>\n",
       "      <td>4.6 Stars</td>\n",
       "      <td>4.8 Stars</td>\n",
       "      <td>0</td>\n",
       "      <td>0</td>\n",
       "      <td>0</td>\n",
       "      <td>0</td>\n",
       "      <td>0</td>\n",
       "      <td>0</td>\n",
       "    </tr>\n",
       "  </tbody>\n",
       "</table>\n",
       "<p>100 rows × 10 columns</p>\n",
       "</div>"
      ],
      "text/plain": [
       "                   name Acting Skills  Overall Versatility  \\\n",
       "1        Jack Nicholson         5 Star             5 Stars   \n",
       "2         Marlon Brando         5 Star             5 Stars   \n",
       "3        Robert De Niro         5 Star           4.8 Stars   \n",
       "4             Al Pacino         5 Star           4.8 Stars   \n",
       "5      Daniel Day-Lewis         5 Star             5 Stars   \n",
       "..                  ...            ...                 ...   \n",
       "96         Alan Rickman       4.6 Star           4.7 Stars   \n",
       "97   Edward G. Robinson       4.6 Star           4.2 Stars   \n",
       "98           Will Smith       4.7 Star           4.5 Stars   \n",
       "99         John Goodman       4.7 Star           4.5 Stars   \n",
       "100       Buster Keaton       4.7 Star           4.6 Stars   \n",
       "\n",
       "    Role Transformation Oscars Oscars_Nominations BAFTA Awards  \\\n",
       "1               5 Stars      3                  2            4   \n",
       "2               5 Stars      2                  8            3   \n",
       "3             4.9 Stars      2                  7            0   \n",
       "4             4.9 Stars      1                  8            2   \n",
       "5               5 Stars      3                  5            4   \n",
       "..                  ...    ...                ...          ...   \n",
       "96            4.7 Stars      0                  0            1   \n",
       "97            4.4 Stars      )                  )            0   \n",
       "98            4.6 Stars      0                  2            0   \n",
       "99            4.6 Stars      0                  0            0   \n",
       "100           4.8 Stars      0                  0            0   \n",
       "\n",
       "    BAFTA Nominations Golden Globes Golden Globe Nominations  \n",
       "1                   8             6                       17  \n",
       "2                   8             2                        6  \n",
       "3                   6             1                        8  \n",
       "4                   5             4                       15  \n",
       "5                   6             2                        7  \n",
       "..                ...           ...                      ...  \n",
       "96                                1                        1  \n",
       "97                  0             0                        0  \n",
       "98                  0             0                        5  \n",
       "99                  0             1                        5  \n",
       "100                 0             0                        0  \n",
       "\n",
       "[100 rows x 10 columns]"
      ]
     },
     "execution_count": 7,
     "metadata": {},
     "output_type": "execute_result"
    }
   ],
   "source": [
    "df = pd.DataFrame(rows)\n",
    "df.index=df.index+1\n",
    "df"
   ]
  },
  {
   "cell_type": "markdown",
   "id": "161daa33-2de3-4ba1-91ce-49071a77648e",
   "metadata": {},
   "source": [
    "Show the data frame using the previous list"
   ]
  }
 ],
 "metadata": {
  "kernelspec": {
   "display_name": "Python 3",
   "language": "python",
   "name": "python3"
  },
  "language_info": {
   "codemirror_mode": {
    "name": "ipython",
    "version": 3
   },
   "file_extension": ".py",
   "mimetype": "text/x-python",
   "name": "python",
   "nbconvert_exporter": "python",
   "pygments_lexer": "ipython3",
   "version": "3.8.10"
  }
 },
 "nbformat": 4,
 "nbformat_minor": 5
}
