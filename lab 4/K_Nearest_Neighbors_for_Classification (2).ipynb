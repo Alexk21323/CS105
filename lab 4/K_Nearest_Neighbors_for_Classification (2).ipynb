{
 "cells": [
  {
   "cell_type": "markdown",
   "metadata": {
    "id": "XERZwlRkCFEx"
   },
   "source": [
    "In 2012, Brittany Wenger, a 17-year old high school student from Florida, won first place in the Google Science Fair. She built [a cloud-based application](http://cloud4cancer.appspot.com/) that predicts whether a patient has breast cancer, based on attributes observed in a biopsy of breast tissue. Her classifier, based on a type of machine learning model called a _neural network_, was 97.4% accurate, with a 99.1% sensitivity to malignancy. You will learn what all of these terms mean in this chapter.\n",
    "\n",
    "![](https://7aba0e11-a-6b960d83-s-sites.googlegroups.com/a/googlesciencefair.com/science-fair-2012-project-64a91af142a459cfb486ed5cb05f803b2eb41354-1333130785-87/the-question/fna-benign1.png?attachauth=ANoY7cplerSFMhG2lY-0UZu7_xj8aa9pK2GfmAaIfqMRR71uCpyCArRiaoQM0HD2xyK49q2fxGRnWO3rXOXSI3IZNigWU3Yz9rOyGOttuWYTyB-0lP8seBT1vHLwZlEz1CHrYNrP_MMWYej262SgMSHA7Zycq13KcEIL1BQjKrsCukhYM5Qr-77ZaoZl1LEFRePEjHDz6YH1-XG9IGfA2XGt9EZhw4nW7Kv8ArO6X5PIU1Yngv2CCbNkkB-R9P1ryl2UE6SokdyeCXIIwcx7VaTcMn9_WvGOnFYPRJNgz1Fv_MaCsMi2k9GFj6eAHIKr0YNLZEbe_YXFfh5XaLFwQ6kS6lN_AwvNXA%3D%3D&attredirects=0) ![](https://7aba0e11-a-6b960d83-s-sites.googlegroups.com/a/googlesciencefair.com/science-fair-2012-project-64a91af142a459cfb486ed5cb05f803b2eb41354-1333130785-87/the-question/fna-malignant1.png?attachauth=ANoY7cogzpoYrWJola-0cgKr0L93qNVRq_HJQoI8z6hNksYF2h0hw3fMlx2mVKma9DEtDO3JFJWrxA8AC7ZJKT0O72UCtHvlJ6sW_Y-sFQFGiglg1tXulHeVfze8HeMmEOlVcGfuD19HeadVPLZlJoi51H-TOIUTd9EpeqPj3lh_SBZ6q7Wsv9Tp2jm8I--hyN9VRV82k-qd-3xpz1KWzVDgEzcx6EkxK1ReMFOifeHYXsP4r_e_g1UEt435460e6kz34mV9QkvXgeqIGmBIvM9SX4uY0Q5WN0RBfGN41wJTw7TqzfO5qxACQw5R6vkeDqp8MquxqDy8rgxr79C8CHXqW0YbefRxwA%3D%3D&attredirects=0)"
   ]
  },
  {
   "cell_type": "markdown",
   "metadata": {
    "id": "ZGXQdFSvFU22"
   },
   "source": [
    "First, we read in the data that Brittany Wenger trained her classifier on.\n",
    "\n"
   ]
  },
  {
   "cell_type": "code",
   "execution_count": 1,
   "metadata": {
    "id": "Ljd8SArUFUiX"
   },
   "outputs": [
    {
     "data": {
      "text/html": [
       "<div>\n",
       "<style scoped>\n",
       "    .dataframe tbody tr th:only-of-type {\n",
       "        vertical-align: middle;\n",
       "    }\n",
       "\n",
       "    .dataframe tbody tr th {\n",
       "        vertical-align: top;\n",
       "    }\n",
       "\n",
       "    .dataframe thead th {\n",
       "        text-align: right;\n",
       "    }\n",
       "</style>\n",
       "<table border=\"1\" class=\"dataframe\">\n",
       "  <thead>\n",
       "    <tr style=\"text-align: right;\">\n",
       "      <th></th>\n",
       "      <th>ID</th>\n",
       "      <th>Clump Thickness</th>\n",
       "      <th>Uniformity of Cell Size</th>\n",
       "      <th>Uniformity of Cell Shape</th>\n",
       "      <th>Marginal Adhesion</th>\n",
       "      <th>Single Epithelial Cell Size</th>\n",
       "      <th>Bare Nuclei</th>\n",
       "      <th>Bland Chromatin</th>\n",
       "      <th>Normal Nucleoli</th>\n",
       "      <th>Mitoses</th>\n",
       "      <th>Class</th>\n",
       "    </tr>\n",
       "  </thead>\n",
       "  <tbody>\n",
       "    <tr>\n",
       "      <th>0</th>\n",
       "      <td>1000025</td>\n",
       "      <td>5</td>\n",
       "      <td>1</td>\n",
       "      <td>1</td>\n",
       "      <td>1</td>\n",
       "      <td>2</td>\n",
       "      <td>1</td>\n",
       "      <td>3</td>\n",
       "      <td>1</td>\n",
       "      <td>1</td>\n",
       "      <td>0</td>\n",
       "    </tr>\n",
       "    <tr>\n",
       "      <th>1</th>\n",
       "      <td>1002945</td>\n",
       "      <td>5</td>\n",
       "      <td>4</td>\n",
       "      <td>4</td>\n",
       "      <td>5</td>\n",
       "      <td>7</td>\n",
       "      <td>10</td>\n",
       "      <td>3</td>\n",
       "      <td>2</td>\n",
       "      <td>1</td>\n",
       "      <td>0</td>\n",
       "    </tr>\n",
       "    <tr>\n",
       "      <th>2</th>\n",
       "      <td>1015425</td>\n",
       "      <td>3</td>\n",
       "      <td>1</td>\n",
       "      <td>1</td>\n",
       "      <td>1</td>\n",
       "      <td>2</td>\n",
       "      <td>2</td>\n",
       "      <td>3</td>\n",
       "      <td>1</td>\n",
       "      <td>1</td>\n",
       "      <td>0</td>\n",
       "    </tr>\n",
       "    <tr>\n",
       "      <th>3</th>\n",
       "      <td>1016277</td>\n",
       "      <td>6</td>\n",
       "      <td>8</td>\n",
       "      <td>8</td>\n",
       "      <td>1</td>\n",
       "      <td>3</td>\n",
       "      <td>4</td>\n",
       "      <td>3</td>\n",
       "      <td>7</td>\n",
       "      <td>1</td>\n",
       "      <td>0</td>\n",
       "    </tr>\n",
       "    <tr>\n",
       "      <th>4</th>\n",
       "      <td>1017023</td>\n",
       "      <td>4</td>\n",
       "      <td>1</td>\n",
       "      <td>1</td>\n",
       "      <td>3</td>\n",
       "      <td>2</td>\n",
       "      <td>1</td>\n",
       "      <td>3</td>\n",
       "      <td>1</td>\n",
       "      <td>1</td>\n",
       "      <td>0</td>\n",
       "    </tr>\n",
       "  </tbody>\n",
       "</table>\n",
       "</div>"
      ],
      "text/plain": [
       "        ID  Clump Thickness  Uniformity of Cell Size  \\\n",
       "0  1000025                5                        1   \n",
       "1  1002945                5                        4   \n",
       "2  1015425                3                        1   \n",
       "3  1016277                6                        8   \n",
       "4  1017023                4                        1   \n",
       "\n",
       "   Uniformity of Cell Shape  Marginal Adhesion  Single Epithelial Cell Size  \\\n",
       "0                         1                  1                            2   \n",
       "1                         4                  5                            7   \n",
       "2                         1                  1                            2   \n",
       "3                         8                  1                            3   \n",
       "4                         1                  3                            2   \n",
       "\n",
       "   Bare Nuclei  Bland Chromatin  Normal Nucleoli  Mitoses  Class  \n",
       "0            1                3                1        1      0  \n",
       "1           10                3                2        1      0  \n",
       "2            2                3                1        1      0  \n",
       "3            4                3                7        1      0  \n",
       "4            1                3                1        1      0  "
      ]
     },
     "execution_count": 1,
     "metadata": {},
     "output_type": "execute_result"
    }
   ],
   "source": [
    "import pandas as pd\n",
    "\n",
    "df_breast = pd.read_csv(\"breast-cancer.csv\")\n",
    "df_breast.head()"
   ]
  },
  {
   "cell_type": "markdown",
   "metadata": {
    "id": "VW0bhucH11MI"
   },
   "source": [
    "# K-Nearest Neighbors for Classification\n",
    "\n",
    "In the previous chapter, we trained machine learning models to predict quantitative labels. Such models are called _regression models_ (or _regressors_). In this chapter, we will train machine learning models to predict categorical variables. In other words, the goal is to \"classify\" observations as belonging to one class or the other. These models are called _classification models_ (or _classifiers_)."
   ]
  },
  {
   "cell_type": "markdown",
   "metadata": {
    "id": "Ck2mTrK-11MN"
   },
   "source": [
    "We focus on just two features for now: **Clump Thickness** and **Uniformity of Cell Size**. Let's plot the training data, using color to represent the class label."
   ]
  },
  {
   "cell_type": "code",
   "execution_count": 2,
   "metadata": {
    "id": "wSMPZjOW11MO"
   },
   "outputs": [
    {
     "data": {
      "image/png": "[encoded data removed]",
      "text/plain": [
       "<Figure size 432x288 with 1 Axes>"
      ]
     },
     "metadata": {
      "needs_background": "light"
     },
     "output_type": "display_data"
    }
   ],
   "source": [
    "colors = df_breast[\"Class\"].map({\n",
    "    0: \"blue\",\n",
    "    1: \"red\"\n",
    "})\n",
    "\n",
    "df_breast.plot.scatter(\n",
    "    x=\"Clump Thickness\", y=\"Uniformity of Cell Size\", c=colors, \n",
    "    alpha=.2\n",
    ");"
   ]
  },
  {
   "cell_type": "markdown",
   "metadata": {
    "id": "f2vl7rYv11MR"
   },
   "source": [
    "Now, suppose that we have a new sample of breast mass with clump thickness 6 and uniformity of cell size 7, represented by a black circle on the plot below. Is this likely a malignant or a benign tumor?\n",
    "\n",
    "![](https://github.com/dlsun/pods/blob/master/06-Classification-Models/classification.png?raw=1)\n",
    "\n",
    "It is not hard to guess that this tumor is probably malignant, just by looking at the plot. The reasoning goes like this: most of the breast masses in the training data that were \"close\" to this one were malignant, so it makes sense to predict that this mass is also malignant. This is precisely the idea behind the $k$-nearest neighbors classifier:\n",
    "\n",
    "1. Calculate the distance between the new point and each point in the training data, using some distance metric on the features.\n",
    "2. Determine the $k$ closest points. Of these $k$ closest points, count up how many of each class label there are.\n",
    "3. The predicted class of the new point is whichever class was most common among the $k$ closest points.\n",
    "\n",
    "The only difference between the $k$-nearest neighbors classifier and the $k$-nearest neighbors regressor from the previous chapter is the last step. Instead of averaging the labels of the $k$ neighbors to obtain our prediction, we count up the number of occurrences of each category among the labels and take the most common one. It makes sense that we have to do something different because the label is now categorical instead of quantitative. This is yet another example of the general principle that was introduced in Chapter 1: the analysis changes depending on the variable type!"
   ]
  },
  {
   "cell_type": "markdown",
   "metadata": {
    "id": "7HHg1D9711MS"
   },
   "source": [
    "# Implementing K-Nearest Neighbors from Scratch\n",
    "\n",
    "Let's classify the breast mass above using 10-nearest neighbors. First, we extract the training data and scale the features."
   ]
  },
  {
   "cell_type": "code",
   "execution_count": 3,
   "metadata": {
    "id": "LdkpTvbs11MS"
   },
   "outputs": [],
   "source": [
    "X_train = df_breast[[\"Clump Thickness\", \"Uniformity of Cell Size\"]]\n",
    "y_train = df_breast[\"Class\"]\n",
    "\n",
    "X_train_sc = (X_train - X_train.mean()) / X_train.std()"
   ]
  },
  {
   "cell_type": "markdown",
   "metadata": {
    "id": "UxYbTftW11MV"
   },
   "source": [
    "Next, we create a `Series` for the new breast mass, being sure to scale it in the exact same way."
   ]
  },
  {
   "cell_type": "code",
   "execution_count": 4,
   "metadata": {
    "id": "mub8rbJ_11MW"
   },
   "outputs": [
    {
     "name": "stderr",
     "output_type": "stream",
     "text": [
      "<ipython-input-4-ddb2fcb66503>:1: DeprecationWarning: The default dtype for empty Series will be 'object' instead of 'float64' in a future version. Specify a dtype explicitly to silence this warning.\n",
      "  x_new = pd.Series()\n"
     ]
    },
    {
     "data": {
      "text/plain": [
       "Clump Thickness            0.552274\n",
       "Uniformity of Cell Size    1.255795\n",
       "dtype: float64"
      ]
     },
     "execution_count": 4,
     "metadata": {},
     "output_type": "execute_result"
    }
   ],
   "source": [
    "x_new = pd.Series()\n",
    "x_new[\"Clump Thickness\"] = 6\n",
    "x_new[\"Uniformity of Cell Size\"] = 7\n",
    "\n",
    "x_new_sc = (x_new - X_train.mean()) / X_train.std()\n",
    "x_new_sc"
   ]
  },
  {
   "cell_type": "markdown",
   "metadata": {
    "id": "-S91eKiQ11Ma"
   },
   "source": [
    "Now, we calculate the (Euclidean) distance between this new mass and each mass in the training data, and sort the distances from smallest to largest."
   ]
  },
  {
   "cell_type": "code",
   "execution_count": 5,
   "metadata": {
    "id": "ozyuID_a11Mb"
   },
   "outputs": [
    {
     "data": {
      "text/plain": [
       "3      0.326249\n",
       "225    0.326249\n",
       "304    0.326249\n",
       "452    0.326249\n",
       "499    0.326249\n",
       "         ...   \n",
       "116    2.640793\n",
       "413    2.640793\n",
       "113    2.640793\n",
       "562    2.640793\n",
       "354    2.640793\n",
       "Length: 683, dtype: float64"
      ]
     },
     "execution_count": 5,
     "metadata": {},
     "output_type": "execute_result"
    }
   ],
   "source": [
    "import numpy as np\n",
    "dists = np.sqrt(((X_train_sc - x_new_sc) ** 2).sum(axis=1))\n",
    "dists_sorted = dists.sort_values()\n",
    "dists_sorted"
   ]
  },
  {
   "cell_type": "markdown",
   "metadata": {
    "id": "qA_4SgTm11Md"
   },
   "source": [
    "The first 10 entries of this sorted list will be the 10 nearest neighbors. Let's get their index."
   ]
  },
  {
   "cell_type": "code",
   "execution_count": 6,
   "metadata": {
    "id": "_UiYU6c511Me"
   },
   "outputs": [
    {
     "data": {
      "text/plain": [
       "Int64Index([3, 225, 304, 452, 499, 251, 566, 652, 434, 550], dtype='int64')"
      ]
     },
     "execution_count": 6,
     "metadata": {},
     "output_type": "execute_result"
    }
   ],
   "source": [
    "inds_nearest = dists_sorted.index[:10]\n",
    "inds_nearest"
   ]
  },
  {
   "cell_type": "markdown",
   "metadata": {
    "id": "b2pm178m11Mg"
   },
   "source": [
    "Now we can look up these indices in the original data."
   ]
  },
  {
   "cell_type": "code",
   "execution_count": 7,
   "metadata": {
    "id": "ZvFteDqd11Mh"
   },
   "outputs": [
    {
     "data": {
      "text/html": [
       "<div>\n",
       "<style scoped>\n",
       "    .dataframe tbody tr th:only-of-type {\n",
       "        vertical-align: middle;\n",
       "    }\n",
       "\n",
       "    .dataframe tbody tr th {\n",
       "        vertical-align: top;\n",
       "    }\n",
       "\n",
       "    .dataframe thead th {\n",
       "        text-align: right;\n",
       "    }\n",
       "</style>\n",
       "<table border=\"1\" class=\"dataframe\">\n",
       "  <thead>\n",
       "    <tr style=\"text-align: right;\">\n",
       "      <th></th>\n",
       "      <th>ID</th>\n",
       "      <th>Clump Thickness</th>\n",
       "      <th>Uniformity of Cell Size</th>\n",
       "      <th>Uniformity of Cell Shape</th>\n",
       "      <th>Marginal Adhesion</th>\n",
       "      <th>Single Epithelial Cell Size</th>\n",
       "      <th>Bare Nuclei</th>\n",
       "      <th>Bland Chromatin</th>\n",
       "      <th>Normal Nucleoli</th>\n",
       "      <th>Mitoses</th>\n",
       "      <th>Class</th>\n",
       "    </tr>\n",
       "  </thead>\n",
       "  <tbody>\n",
       "    <tr>\n",
       "      <th>3</th>\n",
       "      <td>1016277</td>\n",
       "      <td>6</td>\n",
       "      <td>8</td>\n",
       "      <td>8</td>\n",
       "      <td>1</td>\n",
       "      <td>3</td>\n",
       "      <td>4</td>\n",
       "      <td>3</td>\n",
       "      <td>7</td>\n",
       "      <td>1</td>\n",
       "      <td>0</td>\n",
       "    </tr>\n",
       "    <tr>\n",
       "      <th>225</th>\n",
       "      <td>1231387</td>\n",
       "      <td>6</td>\n",
       "      <td>8</td>\n",
       "      <td>7</td>\n",
       "      <td>5</td>\n",
       "      <td>6</td>\n",
       "      <td>8</td>\n",
       "      <td>8</td>\n",
       "      <td>9</td>\n",
       "      <td>2</td>\n",
       "      <td>1</td>\n",
       "    </tr>\n",
       "    <tr>\n",
       "      <th>304</th>\n",
       "      <td>709287</td>\n",
       "      <td>6</td>\n",
       "      <td>8</td>\n",
       "      <td>7</td>\n",
       "      <td>8</td>\n",
       "      <td>6</td>\n",
       "      <td>8</td>\n",
       "      <td>8</td>\n",
       "      <td>9</td>\n",
       "      <td>1</td>\n",
       "      <td>1</td>\n",
       "    </tr>\n",
       "    <tr>\n",
       "      <th>452</th>\n",
       "      <td>1299596</td>\n",
       "      <td>6</td>\n",
       "      <td>6</td>\n",
       "      <td>6</td>\n",
       "      <td>5</td>\n",
       "      <td>4</td>\n",
       "      <td>10</td>\n",
       "      <td>7</td>\n",
       "      <td>6</td>\n",
       "      <td>2</td>\n",
       "      <td>1</td>\n",
       "    </tr>\n",
       "    <tr>\n",
       "      <th>499</th>\n",
       "      <td>1306282</td>\n",
       "      <td>6</td>\n",
       "      <td>6</td>\n",
       "      <td>7</td>\n",
       "      <td>10</td>\n",
       "      <td>3</td>\n",
       "      <td>10</td>\n",
       "      <td>8</td>\n",
       "      <td>10</td>\n",
       "      <td>2</td>\n",
       "      <td>1</td>\n",
       "    </tr>\n",
       "    <tr>\n",
       "      <th>251</th>\n",
       "      <td>242970</td>\n",
       "      <td>5</td>\n",
       "      <td>7</td>\n",
       "      <td>7</td>\n",
       "      <td>1</td>\n",
       "      <td>5</td>\n",
       "      <td>8</td>\n",
       "      <td>3</td>\n",
       "      <td>4</td>\n",
       "      <td>1</td>\n",
       "      <td>0</td>\n",
       "    </tr>\n",
       "    <tr>\n",
       "      <th>566</th>\n",
       "      <td>878358</td>\n",
       "      <td>5</td>\n",
       "      <td>7</td>\n",
       "      <td>10</td>\n",
       "      <td>6</td>\n",
       "      <td>5</td>\n",
       "      <td>10</td>\n",
       "      <td>7</td>\n",
       "      <td>5</td>\n",
       "      <td>1</td>\n",
       "      <td>1</td>\n",
       "    </tr>\n",
       "    <tr>\n",
       "      <th>652</th>\n",
       "      <td>1350319</td>\n",
       "      <td>5</td>\n",
       "      <td>7</td>\n",
       "      <td>4</td>\n",
       "      <td>1</td>\n",
       "      <td>6</td>\n",
       "      <td>1</td>\n",
       "      <td>7</td>\n",
       "      <td>10</td>\n",
       "      <td>3</td>\n",
       "      <td>1</td>\n",
       "    </tr>\n",
       "    <tr>\n",
       "      <th>434</th>\n",
       "      <td>1193544</td>\n",
       "      <td>5</td>\n",
       "      <td>7</td>\n",
       "      <td>9</td>\n",
       "      <td>8</td>\n",
       "      <td>6</td>\n",
       "      <td>10</td>\n",
       "      <td>8</td>\n",
       "      <td>10</td>\n",
       "      <td>1</td>\n",
       "      <td>1</td>\n",
       "    </tr>\n",
       "    <tr>\n",
       "      <th>550</th>\n",
       "      <td>1331412</td>\n",
       "      <td>5</td>\n",
       "      <td>7</td>\n",
       "      <td>10</td>\n",
       "      <td>10</td>\n",
       "      <td>5</td>\n",
       "      <td>10</td>\n",
       "      <td>10</td>\n",
       "      <td>10</td>\n",
       "      <td>1</td>\n",
       "      <td>1</td>\n",
       "    </tr>\n",
       "  </tbody>\n",
       "</table>\n",
       "</div>"
      ],
      "text/plain": [
       "          ID  Clump Thickness  Uniformity of Cell Size  \\\n",
       "3    1016277                6                        8   \n",
       "225  1231387                6                        8   \n",
       "304   709287                6                        8   \n",
       "452  1299596                6                        6   \n",
       "499  1306282                6                        6   \n",
       "251   242970                5                        7   \n",
       "566   878358                5                        7   \n",
       "652  1350319                5                        7   \n",
       "434  1193544                5                        7   \n",
       "550  1331412                5                        7   \n",
       "\n",
       "     Uniformity of Cell Shape  Marginal Adhesion  Single Epithelial Cell Size  \\\n",
       "3                           8                  1                            3   \n",
       "225                         7                  5                            6   \n",
       "304                         7                  8                            6   \n",
       "452                         6                  5                            4   \n",
       "499                         7                 10                            3   \n",
       "251                         7                  1                            5   \n",
       "566                        10                  6                            5   \n",
       "652                         4                  1                            6   \n",
       "434                         9                  8                            6   \n",
       "550                        10                 10                            5   \n",
       "\n",
       "     Bare Nuclei  Bland Chromatin  Normal Nucleoli  Mitoses  Class  \n",
       "3              4                3                7        1      0  \n",
       "225            8                8                9        2      1  \n",
       "304            8                8                9        1      1  \n",
       "452           10                7                6        2      1  \n",
       "499           10                8               10        2      1  \n",
       "251            8                3                4        1      0  \n",
       "566           10                7                5        1      1  \n",
       "652            1                7               10        3      1  \n",
       "434           10                8               10        1      1  \n",
       "550           10               10               10        1      1  "
      ]
     },
     "execution_count": 7,
     "metadata": {},
     "output_type": "execute_result"
    }
   ],
   "source": [
    "df_breast.loc[inds_nearest]"
   ]
  },
  {
   "cell_type": "markdown",
   "metadata": {
    "id": "J6OF86mx11Mk"
   },
   "source": [
    "As a sanity check, notice that these examples all have a clump thickness near 6 and a uniformity of cell size near 7. To make a prediction for the new mass, we need to count up how many malignant and benign masses there were among these 10-nearest neighbors."
   ]
  },
  {
   "cell_type": "code",
   "execution_count": 8,
   "metadata": {
    "id": "Mn0-OXm211Ml"
   },
   "outputs": [
    {
     "data": {
      "text/plain": [
       "1    8\n",
       "0    2\n",
       "Name: Class, dtype: int64"
      ]
     },
     "execution_count": 8,
     "metadata": {},
     "output_type": "execute_result"
    }
   ],
   "source": [
    "df_breast.loc[inds_nearest][\"Class\"].value_counts()"
   ]
  },
  {
   "cell_type": "markdown",
   "metadata": {
    "id": "a0esqq8v11Mn"
   },
   "source": [
    "There were more malignant tumors, by an 8 to 2 margin, so the 10-nearest neighbors model predicts that the breast is malignant.\n",
    "\n",
    "As a measure of confidence in a prediction, classification models often report the predicted _probability_ of each label, instead of just the predicted label. The predicted probability of a class in a $k$-nearest neighbors model is simply the proportion of the $k$ neighbors that are in that class. In the example above, instead of simply predicting that the breast mass is malignant, we could have instead said that it has a $8/10 = .8$ probability of being malignant."
   ]
  },
  {
   "cell_type": "markdown",
   "metadata": {
    "id": "OTEdc4X211Mo"
   },
   "source": [
    "# K-Nearest Neighbors Classifier in Scikit-Learn\n",
    "\n",
    "Now let's implement the same $10$-nearest neighbors model above using Scikit-Learn."
   ]
  },
  {
   "cell_type": "code",
   "execution_count": 9,
   "metadata": {
    "id": "nAvp6blQ11Mo"
   },
   "outputs": [
    {
     "data": {
      "text/plain": [
       "array([0.8])"
      ]
     },
     "execution_count": 9,
     "metadata": {},
     "output_type": "execute_result"
    }
   ],
   "source": [
    "# Hint use the code provided in lecture as a sample\n",
    "from sklearn.preprocessing import StandardScaler\n",
    "from sklearn.neighbors import KNeighborsRegressor\n",
    "scaler = StandardScaler()\n",
    "X_train_st = scaler.fit_transform(X_train)\n",
    "X_new_st = scaler.transform(pd.DataFrame([x_new]))\n",
    "y_train = df_breast[\"Class\"] \n",
    "        \n",
    "model = KNeighborsRegressor(n_neighbors=10)\n",
    "model.fit(X=X_train_st, y=y_train)\n",
    "model.predict(X=X_new_st)"
   ]
  },
  {
   "cell_type": "markdown",
   "metadata": {},
   "source": [
    "Using The Scikit-Learn Model we are able to get the predicted value of 0.8 or 80%."
   ]
  },
  {
   "cell_type": "markdown",
   "metadata": {
    "id": "Fuc6UHaZ11Mr"
   },
   "source": [
    "What if we want the predicted probabilities? For classification models, there is an additional method, `.predict_proba()`, that returns the predicted probability of each class. The instance we want to predict has clump thickness 6 and uniformity of cell size 7. What is the class for this instance?"
   ]
  },
  {
   "cell_type": "code",
   "execution_count": 10,
   "metadata": {
    "id": "qf4iHGc111Mr"
   },
   "outputs": [
    {
     "data": {
      "text/plain": [
       "array([[0.2, 0.8]])"
      ]
     },
     "execution_count": 10,
     "metadata": {},
     "output_type": "execute_result"
    }
   ],
   "source": [
    "# hint use the code provided in lecture as a sample. To do a prediction, its a 1 line code. \n",
    "from sklearn.neighbors import KNeighborsClassifier \n",
    "model = KNeighborsClassifier(n_neighbors=10)\n",
    "model.fit(X=X_train_st, y=y_train)\n",
    "model.predict_proba(X=X_new_st)"
   ]
  },
  {
   "cell_type": "markdown",
   "metadata": {},
   "source": [
    "The model predicited that the percentage of 0 will be 20% and 1 will be 80%, which match our previous results. "
   ]
  },
  {
   "cell_type": "markdown",
   "metadata": {
    "id": "AfjF1XPR11Mt"
   },
   "source": []
  },
  {
   "cell_type": "markdown",
   "metadata": {
    "id": "cgjGNqjV11Mu"
   },
   "source": [
    "# Part 2"
   ]
  },
  {
   "cell_type": "markdown",
   "metadata": {
    "id": "UQBePE_011Mv"
   },
   "source": [
    "1\\. The wines data set (wines.csv ) contains data about the chemical composition of various wines. We want to predict the color (red or white) of a wine with the following features.\n",
    "\n",
    "- fixed acidity: 11\n",
    "- volatile acidity: 0.3\n",
    "- citric acid: 0.3\n",
    "- residual sugar: 2\n",
    "- chlorides: 0.08\n",
    "- free sulfur dioxide: 17\n",
    "- total sulfur dioxide: 60\n",
    "- density: 1.0\n",
    "- pH: 3.2\n",
    "- sulphates: 0.6\n",
    "- alcohol: 9.8\n",
    "- quality: 6\n",
    "\n",
    "Train a 15-nearest neighbors model to predict the color of this wine from just it fixed acidity and volatile acidity. Then, train another 15-nearest neighbors model using all of the features. Does the predicted label change? Do the predicted probabilities of the labels change?"
   ]
  },
  {
   "cell_type": "code",
   "execution_count": 11,
   "metadata": {
    "id": "FIFXADGZxrso"
   },
   "outputs": [
    {
     "data": {
      "text/html": [
       "<div>\n",
       "<style scoped>\n",
       "    .dataframe tbody tr th:only-of-type {\n",
       "        vertical-align: middle;\n",
       "    }\n",
       "\n",
       "    .dataframe tbody tr th {\n",
       "        vertical-align: top;\n",
       "    }\n",
       "\n",
       "    .dataframe thead th {\n",
       "        text-align: right;\n",
       "    }\n",
       "</style>\n",
       "<table border=\"1\" class=\"dataframe\">\n",
       "  <thead>\n",
       "    <tr style=\"text-align: right;\">\n",
       "      <th></th>\n",
       "      <th>fixed acidity</th>\n",
       "      <th>volatile acidity</th>\n",
       "      <th>citric acid</th>\n",
       "      <th>residual sugar</th>\n",
       "      <th>chlorides</th>\n",
       "      <th>free sulfur dioxide</th>\n",
       "      <th>total sulfur dioxide</th>\n",
       "      <th>density</th>\n",
       "      <th>pH</th>\n",
       "      <th>sulphates</th>\n",
       "      <th>alcohol</th>\n",
       "      <th>quality</th>\n",
       "      <th>color</th>\n",
       "    </tr>\n",
       "  </thead>\n",
       "  <tbody>\n",
       "    <tr>\n",
       "      <th>0</th>\n",
       "      <td>7.4</td>\n",
       "      <td>0.70</td>\n",
       "      <td>0.00</td>\n",
       "      <td>1.9</td>\n",
       "      <td>0.076</td>\n",
       "      <td>11.0</td>\n",
       "      <td>34.0</td>\n",
       "      <td>0.9978</td>\n",
       "      <td>3.51</td>\n",
       "      <td>0.56</td>\n",
       "      <td>9.4</td>\n",
       "      <td>5</td>\n",
       "      <td>red</td>\n",
       "    </tr>\n",
       "    <tr>\n",
       "      <th>1</th>\n",
       "      <td>7.8</td>\n",
       "      <td>0.88</td>\n",
       "      <td>0.00</td>\n",
       "      <td>2.6</td>\n",
       "      <td>0.098</td>\n",
       "      <td>25.0</td>\n",
       "      <td>67.0</td>\n",
       "      <td>0.9968</td>\n",
       "      <td>3.20</td>\n",
       "      <td>0.68</td>\n",
       "      <td>9.8</td>\n",
       "      <td>5</td>\n",
       "      <td>red</td>\n",
       "    </tr>\n",
       "    <tr>\n",
       "      <th>2</th>\n",
       "      <td>7.8</td>\n",
       "      <td>0.76</td>\n",
       "      <td>0.04</td>\n",
       "      <td>2.3</td>\n",
       "      <td>0.092</td>\n",
       "      <td>15.0</td>\n",
       "      <td>54.0</td>\n",
       "      <td>0.9970</td>\n",
       "      <td>3.26</td>\n",
       "      <td>0.65</td>\n",
       "      <td>9.8</td>\n",
       "      <td>5</td>\n",
       "      <td>red</td>\n",
       "    </tr>\n",
       "    <tr>\n",
       "      <th>3</th>\n",
       "      <td>11.2</td>\n",
       "      <td>0.28</td>\n",
       "      <td>0.56</td>\n",
       "      <td>1.9</td>\n",
       "      <td>0.075</td>\n",
       "      <td>17.0</td>\n",
       "      <td>60.0</td>\n",
       "      <td>0.9980</td>\n",
       "      <td>3.16</td>\n",
       "      <td>0.58</td>\n",
       "      <td>9.8</td>\n",
       "      <td>6</td>\n",
       "      <td>red</td>\n",
       "    </tr>\n",
       "    <tr>\n",
       "      <th>4</th>\n",
       "      <td>7.4</td>\n",
       "      <td>0.70</td>\n",
       "      <td>0.00</td>\n",
       "      <td>1.9</td>\n",
       "      <td>0.076</td>\n",
       "      <td>11.0</td>\n",
       "      <td>34.0</td>\n",
       "      <td>0.9978</td>\n",
       "      <td>3.51</td>\n",
       "      <td>0.56</td>\n",
       "      <td>9.4</td>\n",
       "      <td>5</td>\n",
       "      <td>red</td>\n",
       "    </tr>\n",
       "  </tbody>\n",
       "</table>\n",
       "</div>"
      ],
      "text/plain": [
       "   fixed acidity  volatile acidity  citric acid  residual sugar  chlorides  \\\n",
       "0            7.4              0.70         0.00             1.9      0.076   \n",
       "1            7.8              0.88         0.00             2.6      0.098   \n",
       "2            7.8              0.76         0.04             2.3      0.092   \n",
       "3           11.2              0.28         0.56             1.9      0.075   \n",
       "4            7.4              0.70         0.00             1.9      0.076   \n",
       "\n",
       "   free sulfur dioxide  total sulfur dioxide  density    pH  sulphates  \\\n",
       "0                 11.0                  34.0   0.9978  3.51       0.56   \n",
       "1                 25.0                  67.0   0.9968  3.20       0.68   \n",
       "2                 15.0                  54.0   0.9970  3.26       0.65   \n",
       "3                 17.0                  60.0   0.9980  3.16       0.58   \n",
       "4                 11.0                  34.0   0.9978  3.51       0.56   \n",
       "\n",
       "   alcohol  quality color  \n",
       "0      9.4        5   red  \n",
       "1      9.8        5   red  \n",
       "2      9.8        5   red  \n",
       "3      9.8        6   red  \n",
       "4      9.4        5   red  "
      ]
     },
     "execution_count": 11,
     "metadata": {},
     "output_type": "execute_result"
    }
   ],
   "source": [
    "# TODO\n",
    "wine_df = pd.read_csv(\"wines.csv\")\n",
    "wine_df.head()"
   ]
  },
  {
   "cell_type": "code",
   "execution_count": 12,
   "metadata": {},
   "outputs": [
    {
     "name": "stderr",
     "output_type": "stream",
     "text": [
      "<ipython-input-12-7e1262df73af>:4: DeprecationWarning: The default dtype for empty Series will be 'object' instead of 'float64' in a future version. Specify a dtype explicitly to silence this warning.\n",
      "  X_new = pd.Series()\n"
     ]
    },
    {
     "data": {
      "text/plain": [
       "array([[1., 0.]])"
      ]
     },
     "execution_count": 12,
     "metadata": {},
     "output_type": "execute_result"
    }
   ],
   "source": [
    "X_train = wine_df[[\"fixed acidity\",\"volatile acidity\"]]\n",
    "y_train = wine_df[\"color\"]\n",
    "\n",
    "X_new = pd.Series()\n",
    "X_new[\"fixed acidity\"] = 11\n",
    "X_new[\"volatile acidity\"] = 0.3\n",
    "\n",
    "X_train_st = scaler.fit_transform(X_train)\n",
    "X_new_st = scaler.transform(pd.DataFrame([X_new]))\n",
    "\n",
    "model = KNeighborsClassifier(n_neighbors=15)\n",
    "model.fit(X=X_train_st, y=y_train)\n",
    "model.predict_proba(X=X_new_st)\n"
   ]
  },
  {
   "cell_type": "markdown",
   "metadata": {},
   "source": [
    "For the 15 nearest neighbors model, the wine with those specific stats have 100% of being red wine. "
   ]
  },
  {
   "cell_type": "code",
   "execution_count": 13,
   "metadata": {},
   "outputs": [
    {
     "name": "stderr",
     "output_type": "stream",
     "text": [
      "<ipython-input-13-36a36524232a>:1: DeprecationWarning: The default dtype for empty Series will be 'object' instead of 'float64' in a future version. Specify a dtype explicitly to silence this warning.\n",
      "  X_new = pd.Series()\n"
     ]
    },
    {
     "data": {
      "text/plain": [
       "array([[1., 0.]])"
      ]
     },
     "execution_count": 13,
     "metadata": {},
     "output_type": "execute_result"
    }
   ],
   "source": [
    "X_new = pd.Series()\n",
    "X_new[\"fixed acidity\"] = 11\n",
    "X_new[\"volatile acidity\"] = 0.3\n",
    "X_new[\"citric acid\"] = 0.3\n",
    "X_new[\"residual sugar\"] = 2\n",
    "X_new[\"chlorides\"] = 0.08\n",
    "X_new[\"free sulfur dioxide\"] = 17\n",
    "X_new[\"total sulfur dioxide\"] = 60\n",
    "X_new[\"density\"] = 1.0\n",
    "X_new[\"pH\"] = 3.2\n",
    "X_new[\"sulphates\"] = 0.6\n",
    "X_new[\"alcohol\"] = 9.8\n",
    "X_new[\"quality\"] =  6\n",
    "\n",
    "X_train = wine_df.iloc[:,:-1]\n",
    "X_train_st = scaler.fit_transform(X_train)\n",
    "X_new_st = scaler.transform(pd.DataFrame([X_new]))\n",
    "\n",
    "model = KNeighborsClassifier(n_neighbors=15)\n",
    "model.fit(X=X_train_st, y=y_train)\n",
    "model.predict_proba(X=X_new_st)"
   ]
  },
  {
   "cell_type": "markdown",
   "metadata": {},
   "source": [
    "After involving the other data types the result remains the same, it shows that the other data has no corelation to the wine's color other than fixed acidity volatile acidity. "
   ]
  },
  {
   "cell_type": "markdown",
   "metadata": {
    "id": "qvkzMDWu11Mz"
   },
   "source": [
    "\n",
    "2\\. Build a 5-nearest neighbors model to predict whether or not a passenger on a Titanic would survive, based on their age, sex, and class. Use the Titanic data set (titanic.csv ) as your training data. Then, use your model to predict whether a 20-year old female in first-class would survive. What about a 20-year old female in third-class?"
   ]
  },
  {
   "cell_type": "code",
   "execution_count": 18,
   "metadata": {
    "id": "pwXqOYr7x3iv"
   },
   "outputs": [
    {
     "data": {
      "text/html": [
       "<div>\n",
       "<style scoped>\n",
       "    .dataframe tbody tr th:only-of-type {\n",
       "        vertical-align: middle;\n",
       "    }\n",
       "\n",
       "    .dataframe tbody tr th {\n",
       "        vertical-align: top;\n",
       "    }\n",
       "\n",
       "    .dataframe thead th {\n",
       "        text-align: right;\n",
       "    }\n",
       "</style>\n",
       "<table border=\"1\" class=\"dataframe\">\n",
       "  <thead>\n",
       "    <tr style=\"text-align: right;\">\n",
       "      <th></th>\n",
       "      <th>name</th>\n",
       "      <th>gender</th>\n",
       "      <th>age</th>\n",
       "      <th>class</th>\n",
       "      <th>embarked</th>\n",
       "      <th>country</th>\n",
       "      <th>ticketno</th>\n",
       "      <th>fare</th>\n",
       "      <th>survived</th>\n",
       "    </tr>\n",
       "  </thead>\n",
       "  <tbody>\n",
       "    <tr>\n",
       "      <th>0</th>\n",
       "      <td>Abbing, Mr. Anthony</td>\n",
       "      <td>1</td>\n",
       "      <td>42.0</td>\n",
       "      <td>3</td>\n",
       "      <td>S</td>\n",
       "      <td>United States</td>\n",
       "      <td>5547.0</td>\n",
       "      <td>7.1100</td>\n",
       "      <td>0</td>\n",
       "    </tr>\n",
       "    <tr>\n",
       "      <th>1</th>\n",
       "      <td>Abbott, Mr. Eugene Joseph</td>\n",
       "      <td>1</td>\n",
       "      <td>13.0</td>\n",
       "      <td>3</td>\n",
       "      <td>S</td>\n",
       "      <td>United States</td>\n",
       "      <td>2673.0</td>\n",
       "      <td>20.0500</td>\n",
       "      <td>0</td>\n",
       "    </tr>\n",
       "    <tr>\n",
       "      <th>2</th>\n",
       "      <td>Abbott, Mr. Rossmore Edward</td>\n",
       "      <td>1</td>\n",
       "      <td>16.0</td>\n",
       "      <td>3</td>\n",
       "      <td>S</td>\n",
       "      <td>United States</td>\n",
       "      <td>2673.0</td>\n",
       "      <td>20.0500</td>\n",
       "      <td>0</td>\n",
       "    </tr>\n",
       "    <tr>\n",
       "      <th>3</th>\n",
       "      <td>Abbott, Mrs. Rhoda Mary 'Rosa'</td>\n",
       "      <td>0</td>\n",
       "      <td>39.0</td>\n",
       "      <td>3</td>\n",
       "      <td>S</td>\n",
       "      <td>England</td>\n",
       "      <td>2673.0</td>\n",
       "      <td>20.0500</td>\n",
       "      <td>1</td>\n",
       "    </tr>\n",
       "    <tr>\n",
       "      <th>4</th>\n",
       "      <td>Abelseth, Miss. Karen Marie</td>\n",
       "      <td>0</td>\n",
       "      <td>16.0</td>\n",
       "      <td>3</td>\n",
       "      <td>S</td>\n",
       "      <td>Norway</td>\n",
       "      <td>348125.0</td>\n",
       "      <td>7.1300</td>\n",
       "      <td>1</td>\n",
       "    </tr>\n",
       "    <tr>\n",
       "      <th>...</th>\n",
       "      <td>...</td>\n",
       "      <td>...</td>\n",
       "      <td>...</td>\n",
       "      <td>...</td>\n",
       "      <td>...</td>\n",
       "      <td>...</td>\n",
       "      <td>...</td>\n",
       "      <td>...</td>\n",
       "      <td>...</td>\n",
       "    </tr>\n",
       "    <tr>\n",
       "      <th>1314</th>\n",
       "      <td>Yvois, Miss. Henriette</td>\n",
       "      <td>0</td>\n",
       "      <td>24.0</td>\n",
       "      <td>2</td>\n",
       "      <td>S</td>\n",
       "      <td>France</td>\n",
       "      <td>248747.0</td>\n",
       "      <td>13.0000</td>\n",
       "      <td>0</td>\n",
       "    </tr>\n",
       "    <tr>\n",
       "      <th>1315</th>\n",
       "      <td>Zakarian, Mr. Mapriededer</td>\n",
       "      <td>1</td>\n",
       "      <td>22.0</td>\n",
       "      <td>3</td>\n",
       "      <td>C</td>\n",
       "      <td>Turkey</td>\n",
       "      <td>2656.0</td>\n",
       "      <td>7.0406</td>\n",
       "      <td>0</td>\n",
       "    </tr>\n",
       "    <tr>\n",
       "      <th>1316</th>\n",
       "      <td>Zakarian, Mr. Ortin</td>\n",
       "      <td>1</td>\n",
       "      <td>27.0</td>\n",
       "      <td>3</td>\n",
       "      <td>C</td>\n",
       "      <td>Turkey</td>\n",
       "      <td>2670.0</td>\n",
       "      <td>7.0406</td>\n",
       "      <td>0</td>\n",
       "    </tr>\n",
       "    <tr>\n",
       "      <th>1317</th>\n",
       "      <td>Zenni, Mr. Philip</td>\n",
       "      <td>1</td>\n",
       "      <td>25.0</td>\n",
       "      <td>3</td>\n",
       "      <td>C</td>\n",
       "      <td>Lebanon</td>\n",
       "      <td>2620.0</td>\n",
       "      <td>7.0406</td>\n",
       "      <td>1</td>\n",
       "    </tr>\n",
       "    <tr>\n",
       "      <th>1318</th>\n",
       "      <td>Zimmermann, Mr. Leo</td>\n",
       "      <td>1</td>\n",
       "      <td>29.0</td>\n",
       "      <td>3</td>\n",
       "      <td>S</td>\n",
       "      <td>Germany</td>\n",
       "      <td>315082.0</td>\n",
       "      <td>7.1706</td>\n",
       "      <td>0</td>\n",
       "    </tr>\n",
       "  </tbody>\n",
       "</table>\n",
       "<p>1315 rows × 9 columns</p>\n",
       "</div>"
      ],
      "text/plain": [
       "                                name  gender   age  class embarked  \\\n",
       "0                Abbing, Mr. Anthony       1  42.0      3        S   \n",
       "1          Abbott, Mr. Eugene Joseph       1  13.0      3        S   \n",
       "2        Abbott, Mr. Rossmore Edward       1  16.0      3        S   \n",
       "3     Abbott, Mrs. Rhoda Mary 'Rosa'       0  39.0      3        S   \n",
       "4        Abelseth, Miss. Karen Marie       0  16.0      3        S   \n",
       "...                              ...     ...   ...    ...      ...   \n",
       "1314          Yvois, Miss. Henriette       0  24.0      2        S   \n",
       "1315       Zakarian, Mr. Mapriededer       1  22.0      3        C   \n",
       "1316             Zakarian, Mr. Ortin       1  27.0      3        C   \n",
       "1317               Zenni, Mr. Philip       1  25.0      3        C   \n",
       "1318             Zimmermann, Mr. Leo       1  29.0      3        S   \n",
       "\n",
       "            country  ticketno     fare  survived  \n",
       "0     United States    5547.0   7.1100         0  \n",
       "1     United States    2673.0  20.0500         0  \n",
       "2     United States    2673.0  20.0500         0  \n",
       "3           England    2673.0  20.0500         1  \n",
       "4            Norway  348125.0   7.1300         1  \n",
       "...             ...       ...      ...       ...  \n",
       "1314         France  248747.0  13.0000         0  \n",
       "1315         Turkey    2656.0   7.0406         0  \n",
       "1316         Turkey    2670.0   7.0406         0  \n",
       "1317        Lebanon    2620.0   7.0406         1  \n",
       "1318        Germany  315082.0   7.1706         0  \n",
       "\n",
       "[1315 rows x 9 columns]"
      ]
     },
     "execution_count": 18,
     "metadata": {},
     "output_type": "execute_result"
    }
   ],
   "source": [
    "# TODO\n",
    "titanic_df = pd.read_csv(\"titanic.csv\")\n",
    "passengers = [\"1st\", \"2nd\",\"3rd\"]\n",
    "titanic_df = titanic_df.loc[titanic_df[\"class\"].isin(passengers)] #data cleaning to eliminate crew \n",
    "\n",
    "titanic_df['gender'] = titanic_df['gender'].replace([\"female\", \"male\"], [0,1]) #replace str with int\n",
    "titanic_df['class'] = titanic_df['class'].replace([\"1st\", \"2nd\", \"3rd\"], [1,2,3])\n",
    "\n",
    "titanic_df = titanic_df.dropna(subset=['gender', 'age','class'])\n",
    "titanic_df"
   ]
  },
  {
   "cell_type": "markdown",
   "metadata": {},
   "source": [
    "Data cleaning: remove crew from passenger list, drop rows with missing critical data such as gender, age and class. Replace class type stre to int for scaler model"
   ]
  },
  {
   "cell_type": "code",
   "execution_count": 17,
   "metadata": {},
   "outputs": [
    {
     "name": "stderr",
     "output_type": "stream",
     "text": [
      "<ipython-input-17-4cfa5af0120e>:4: DeprecationWarning: The default dtype for empty Series will be 'object' instead of 'float64' in a future version. Specify a dtype explicitly to silence this warning.\n",
      "  X_new = pd.Series()\n"
     ]
    },
    {
     "data": {
      "text/plain": [
       "array([1.])"
      ]
     },
     "execution_count": 17,
     "metadata": {},
     "output_type": "execute_result"
    }
   ],
   "source": [
    "X_train = titanic_df[[\"gender\", \"age\", \"class\"]]\n",
    "y_train = titanic_df[\"survived\"]\n",
    "\n",
    "X_new = pd.Series()\n",
    "X_new[\"age\"] = 20\n",
    "X_new[\"gender\"] = 0\n",
    "X_new[\"class\"] = 1\n",
    "\n",
    "X_train_st = scaler.fit_transform(X_train)\n",
    "X_new_st = scaler.transform(pd.DataFrame([X_new]))\n",
    "\n",
    "model = KNeighborsRegressor(n_neighbors=5)\n",
    "model.fit(X=X_train_st, y=y_train)\n",
    "model.predict(X=X_new_st)\n"
   ]
  },
  {
   "cell_type": "markdown",
   "metadata": {},
   "source": [
    "The 20 year old female in first class has 100% of surviving "
   ]
  },
  {
   "cell_type": "code",
   "execution_count": 16,
   "metadata": {},
   "outputs": [
    {
     "name": "stderr",
     "output_type": "stream",
     "text": [
      "<ipython-input-16-534fa5fe504b>:1: DeprecationWarning: The default dtype for empty Series will be 'object' instead of 'float64' in a future version. Specify a dtype explicitly to silence this warning.\n",
      "  X_new = pd.Series()\n"
     ]
    },
    {
     "data": {
      "text/plain": [
       "array([0.4])"
      ]
     },
     "execution_count": 16,
     "metadata": {},
     "output_type": "execute_result"
    }
   ],
   "source": [
    "X_new = pd.Series()\n",
    "X_new[\"age\"] = 20\n",
    "X_new[\"gender\"] = 0\n",
    "X_new[\"class\"] = 3\n",
    "\n",
    "X_new_st = scaler.transform(pd.DataFrame([X_new]))\n",
    "model = KNeighborsRegressor(n_neighbors=5)\n",
    "model.fit(X=X_train_st, y=y_train)\n",
    "model.predict(X=X_new_st)\n"
   ]
  },
  {
   "cell_type": "markdown",
   "metadata": {},
   "source": [
    "The 20 year old female in first class has 40% of surviving "
   ]
  },
  {
   "cell_type": "code",
   "execution_count": null,
   "metadata": {},
   "outputs": [],
   "source": []
  }
 ],
 "metadata": {
  "colab": {
   "collapsed_sections": [],
   "name": " K-Nearest Neighbors for Classification",
   "provenance": []
  },
  "kernelspec": {
   "display_name": "Python 3",
   "language": "python",
   "name": "python3"
  },
  "language_info": {
   "codemirror_mode": {
    "name": "ipython",
    "version": 3
   },
   "file_extension": ".py",
   "mimetype": "text/x-python",
   "name": "python",
   "nbconvert_exporter": "python",
   "pygments_lexer": "ipython3",
   "version": "3.8.10"
  }
 },
 "nbformat": 4,
 "nbformat_minor": 4
}
