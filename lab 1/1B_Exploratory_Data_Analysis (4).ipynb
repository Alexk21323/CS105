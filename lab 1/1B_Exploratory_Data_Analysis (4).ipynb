{
 "cells": [
  {
   "cell_type": "markdown",
   "metadata": {
    "id": "1w8TUMWepGn8"
   },
   "source": [
    "### Exploratory Data Analysis \n",
    "\n"
   ]
  },
  {
   "cell_type": "markdown",
   "metadata": {
    "id": "YPxq2h1ypGn8"
   },
   "source": [
    "The HOUSES dataset contains a collection of recent real estate listings in San Luis Obispo county and around it. The dataset is as a CSV file. The dataset contains the following fields:\n",
    "\n",
    "1. MLS: Multiple listing service number for the house (unique ID).\n",
    "2. Location: city/town where the house is located. Most locations are in San Luis Obispo county and northern Santa Barbara county (Santa Maria-Orcutt, Lompoc, Guadelupe, Los Alamos), but there some out of area locations as well.\n",
    "4. Price: the most recent listing price of the house (in dollars).\n",
    "5. Bedrooms: number of bedrooms.\n",
    "6. Bathrooms: number of bathrooms.\n",
    "7. Size: size of the house in square feet.\n",
    "8. Price/SQ.ft: price of the house per square foot.\n",
    "9. Status: type of sale. Thee types are represented in the dataset: Short Sale, Foreclosure and Regular.\n",
    "\n",
    "Lets import the required libraries that we will be using later. "
   ]
  },
  {
   "cell_type": "code",
   "execution_count": 1,
   "metadata": {
    "id": "bPYuP08hpGn9"
   },
   "outputs": [],
   "source": [
    "from numpy import * # everything \n",
    "import pandas as pd "
   ]
  },
  {
   "cell_type": "markdown",
   "metadata": {
    "id": "xwIOGRdbpGoA"
   },
   "source": [
    "Let's load the dataset into a pandas dataframe and have a look at the headers."
   ]
  },
  {
   "cell_type": "code",
   "execution_count": 2,
   "metadata": {
    "id": "CYmpXRazpGoB",
    "scrolled": true
   },
   "outputs": [],
   "source": [
    "df = pd.read_csv('data.csv', sep=',', error_bad_lines=False) # read file as a dataframe"
   ]
  },
  {
   "cell_type": "markdown",
   "metadata": {
    "id": "LFCfmALtpGoD"
   },
   "source": [
    "Lets take a look at the first 2 rows of the dataframe."
   ]
  },
  {
   "cell_type": "code",
   "execution_count": 3,
   "metadata": {
    "id": "syVb3mhNpGoE",
    "outputId": "024618c6-0ad0-44cd-8dda-34c403375e2c"
   },
   "outputs": [
    {
     "data": {
      "text/html": [
       "<div>\n",
       "<style scoped>\n",
       "    .dataframe tbody tr th:only-of-type {\n",
       "        vertical-align: middle;\n",
       "    }\n",
       "\n",
       "    .dataframe tbody tr th {\n",
       "        vertical-align: top;\n",
       "    }\n",
       "\n",
       "    .dataframe thead th {\n",
       "        text-align: right;\n",
       "    }\n",
       "</style>\n",
       "<table border=\"1\" class=\"dataframe\">\n",
       "  <thead>\n",
       "    <tr style=\"text-align: right;\">\n",
       "      <th></th>\n",
       "      <th>MLS</th>\n",
       "      <th>Location</th>\n",
       "      <th>Price</th>\n",
       "      <th>Bedrooms</th>\n",
       "      <th>Bathrooms</th>\n",
       "      <th>Size</th>\n",
       "      <th>Price/SQ.Ft</th>\n",
       "      <th>Status</th>\n",
       "    </tr>\n",
       "  </thead>\n",
       "  <tbody>\n",
       "    <tr>\n",
       "      <th>0</th>\n",
       "      <td>132842</td>\n",
       "      <td>Arroyo Grande</td>\n",
       "      <td>795000</td>\n",
       "      <td>3</td>\n",
       "      <td>3</td>\n",
       "      <td>2371</td>\n",
       "      <td>335.30</td>\n",
       "      <td>Short Sale</td>\n",
       "    </tr>\n",
       "    <tr>\n",
       "      <th>1</th>\n",
       "      <td>134364</td>\n",
       "      <td>Paso Robles</td>\n",
       "      <td>399000</td>\n",
       "      <td>4</td>\n",
       "      <td>3</td>\n",
       "      <td>2818</td>\n",
       "      <td>141.59</td>\n",
       "      <td>Short Sale</td>\n",
       "    </tr>\n",
       "  </tbody>\n",
       "</table>\n",
       "</div>"
      ],
      "text/plain": [
       "      MLS       Location   Price  Bedrooms  Bathrooms  Size  Price/SQ.Ft  \\\n",
       "0  132842  Arroyo Grande  795000         3          3  2371       335.30   \n",
       "1  134364    Paso Robles  399000         4          3  2818       141.59   \n",
       "\n",
       "       Status  \n",
       "0  Short Sale  \n",
       "1  Short Sale  "
      ]
     },
     "execution_count": 3,
     "metadata": {},
     "output_type": "execute_result"
    }
   ],
   "source": [
    "df.head(2)"
   ]
  },
  {
   "cell_type": "markdown",
   "metadata": {
    "id": "KcC01DnkpGoH"
   },
   "source": [
    "Examine the provided columns (using df.<columnName>.describe), does the pandas infered datatype of each column make sense? Inlucde your code and/or comments below. "
   ]
  },
  {
   "cell_type": "code",
   "execution_count": 11,
   "metadata": {
    "id": "rdDcmJeZpGoI"
   },
   "outputs": [
    {
     "data": {
      "text/html": [
       "<div>\n",
       "<style scoped>\n",
       "    .dataframe tbody tr th:only-of-type {\n",
       "        vertical-align: middle;\n",
       "    }\n",
       "\n",
       "    .dataframe tbody tr th {\n",
       "        vertical-align: top;\n",
       "    }\n",
       "\n",
       "    .dataframe thead th {\n",
       "        text-align: right;\n",
       "    }\n",
       "</style>\n",
       "<table border=\"1\" class=\"dataframe\">\n",
       "  <thead>\n",
       "    <tr style=\"text-align: right;\">\n",
       "      <th></th>\n",
       "      <th>MLSB</th>\n",
       "      <th>Price</th>\n",
       "      <th>Bedrooms</th>\n",
       "      <th>Bathrooms</th>\n",
       "      <th>Size</th>\n",
       "      <th>Price/SQ.Ft</th>\n",
       "    </tr>\n",
       "  </thead>\n",
       "  <tbody>\n",
       "    <tr>\n",
       "      <th>count</th>\n",
       "      <td>781.000000</td>\n",
       "      <td>7.810000e+02</td>\n",
       "      <td>781.000000</td>\n",
       "      <td>781.000000</td>\n",
       "      <td>781.000000</td>\n",
       "      <td>781.000000</td>\n",
       "    </tr>\n",
       "    <tr>\n",
       "      <th>mean</th>\n",
       "      <td>151224.550576</td>\n",
       "      <td>3.833291e+05</td>\n",
       "      <td>3.142125</td>\n",
       "      <td>2.355954</td>\n",
       "      <td>1755.058899</td>\n",
       "      <td>213.131293</td>\n",
       "    </tr>\n",
       "    <tr>\n",
       "      <th>std</th>\n",
       "      <td>3936.122042</td>\n",
       "      <td>3.490381e+05</td>\n",
       "      <td>0.855768</td>\n",
       "      <td>0.846596</td>\n",
       "      <td>819.577603</td>\n",
       "      <td>115.082146</td>\n",
       "    </tr>\n",
       "    <tr>\n",
       "      <th>min</th>\n",
       "      <td>132842.000000</td>\n",
       "      <td>2.650000e+04</td>\n",
       "      <td>0.000000</td>\n",
       "      <td>1.000000</td>\n",
       "      <td>120.000000</td>\n",
       "      <td>19.330000</td>\n",
       "    </tr>\n",
       "    <tr>\n",
       "      <th>25%</th>\n",
       "      <td>149922.000000</td>\n",
       "      <td>1.990000e+05</td>\n",
       "      <td>3.000000</td>\n",
       "      <td>2.000000</td>\n",
       "      <td>1218.000000</td>\n",
       "      <td>142.140000</td>\n",
       "    </tr>\n",
       "    <tr>\n",
       "      <th>50%</th>\n",
       "      <td>152581.000000</td>\n",
       "      <td>2.950000e+05</td>\n",
       "      <td>3.000000</td>\n",
       "      <td>2.000000</td>\n",
       "      <td>1550.000000</td>\n",
       "      <td>188.360000</td>\n",
       "    </tr>\n",
       "    <tr>\n",
       "      <th>75%</th>\n",
       "      <td>154167.000000</td>\n",
       "      <td>4.290000e+05</td>\n",
       "      <td>4.000000</td>\n",
       "      <td>3.000000</td>\n",
       "      <td>2032.000000</td>\n",
       "      <td>245.420000</td>\n",
       "    </tr>\n",
       "    <tr>\n",
       "      <th>max</th>\n",
       "      <td>154580.000000</td>\n",
       "      <td>5.499000e+06</td>\n",
       "      <td>10.000000</td>\n",
       "      <td>11.000000</td>\n",
       "      <td>6800.000000</td>\n",
       "      <td>1144.640000</td>\n",
       "    </tr>\n",
       "  </tbody>\n",
       "</table>\n",
       "</div>"
      ],
      "text/plain": [
       "                MLSB         Price    Bedrooms   Bathrooms         Size  \\\n",
       "count     781.000000  7.810000e+02  781.000000  781.000000   781.000000   \n",
       "mean   151224.550576  3.833291e+05    3.142125    2.355954  1755.058899   \n",
       "std      3936.122042  3.490381e+05    0.855768    0.846596   819.577603   \n",
       "min    132842.000000  2.650000e+04    0.000000    1.000000   120.000000   \n",
       "25%    149922.000000  1.990000e+05    3.000000    2.000000  1218.000000   \n",
       "50%    152581.000000  2.950000e+05    3.000000    2.000000  1550.000000   \n",
       "75%    154167.000000  4.290000e+05    4.000000    3.000000  2032.000000   \n",
       "max    154580.000000  5.499000e+06   10.000000   11.000000  6800.000000   \n",
       "\n",
       "       Price/SQ.Ft  \n",
       "count   781.000000  \n",
       "mean    213.131293  \n",
       "std     115.082146  \n",
       "min      19.330000  \n",
       "25%     142.140000  \n",
       "50%     188.360000  \n",
       "75%     245.420000  \n",
       "max    1144.640000  "
      ]
     },
     "execution_count": 11,
     "metadata": {},
     "output_type": "execute_result"
    }
   ],
   "source": [
    "#TODO\n",
    "df.describe()"
   ]
  },
  {
   "cell_type": "code",
   "execution_count": 19,
   "metadata": {},
   "outputs": [
    {
     "data": {
      "text/plain": [
       "0       True\n",
       "1      False\n",
       "2      False\n",
       "3      False\n",
       "4       True\n",
       "       ...  \n",
       "776     True\n",
       "777     True\n",
       "778     True\n",
       "779     True\n",
       "780     True\n",
       "Name: Bedrooms, Length: 781, dtype: bool"
      ]
     },
     "execution_count": 19,
     "metadata": {},
     "output_type": "execute_result"
    }
   ],
   "source": [
    "df[\"Bedrooms\"]==3"
   ]
  },
  {
   "cell_type": "markdown",
   "metadata": {},
   "source": [
    "The describe function gave me the statisticis of each stats, if does make sense but it lacks the status column."
   ]
  },
  {
   "cell_type": "markdown",
   "metadata": {
    "id": "qfzj_GNXpGoK"
   },
   "source": [
    "Next, lets look at a specific column or feature in the dataframe. \n",
    "Based on the provided dataset, what are the distinct number of bedrooms and bathrooms?  Hint : Use the unique function https://pandas.pydata.org/pandas-docs/stable/reference/api/pandas.unique.html"
   ]
  },
  {
   "cell_type": "code",
   "execution_count": 5,
   "metadata": {
    "id": "s7ADQPLdpGoL"
   },
   "outputs": [
    {
     "data": {
      "text/plain": [
       "array([ 3,  4,  2,  7,  1,  5,  0,  6, 10])"
      ]
     },
     "metadata": {},
     "output_type": "display_data"
    },
    {
     "data": {
      "text/plain": [
       "array([ 3,  4,  1,  2,  5,  7,  6, 11])"
      ]
     },
     "metadata": {},
     "output_type": "display_data"
    }
   ],
   "source": [
    "# TODO\n",
    "display(pd.unique(df.Bedrooms))\n",
    "display(pd.unique(df.Bathrooms))"
   ]
  },
  {
   "cell_type": "code",
   "execution_count": null,
   "metadata": {},
   "outputs": [],
   "source": []
  },
  {
   "cell_type": "markdown",
   "metadata": {
    "id": "H0g9LnoopGoN"
   },
   "source": [
    "What if we want to drop a column from the dataframe, like the 'Location' column. Hint: Use the drop function https://pandas.pydata.org/pandas-docs/stable/reference/api/pandas.DataFrame.drop.html"
   ]
  },
  {
   "cell_type": "code",
   "execution_count": 6,
   "metadata": {
    "id": "QnEX3TAYpGoN"
   },
   "outputs": [
    {
     "data": {
      "text/html": [
       "<div>\n",
       "<style scoped>\n",
       "    .dataframe tbody tr th:only-of-type {\n",
       "        vertical-align: middle;\n",
       "    }\n",
       "\n",
       "    .dataframe tbody tr th {\n",
       "        vertical-align: top;\n",
       "    }\n",
       "\n",
       "    .dataframe thead th {\n",
       "        text-align: right;\n",
       "    }\n",
       "</style>\n",
       "<table border=\"1\" class=\"dataframe\">\n",
       "  <thead>\n",
       "    <tr style=\"text-align: right;\">\n",
       "      <th></th>\n",
       "      <th>MLS</th>\n",
       "      <th>Price</th>\n",
       "      <th>Bedrooms</th>\n",
       "      <th>Bathrooms</th>\n",
       "      <th>Size</th>\n",
       "      <th>Price/SQ.Ft</th>\n",
       "      <th>Status</th>\n",
       "    </tr>\n",
       "  </thead>\n",
       "  <tbody>\n",
       "    <tr>\n",
       "      <th>0</th>\n",
       "      <td>132842</td>\n",
       "      <td>795000</td>\n",
       "      <td>3</td>\n",
       "      <td>3</td>\n",
       "      <td>2371</td>\n",
       "      <td>335.30</td>\n",
       "      <td>Short Sale</td>\n",
       "    </tr>\n",
       "    <tr>\n",
       "      <th>1</th>\n",
       "      <td>134364</td>\n",
       "      <td>399000</td>\n",
       "      <td>4</td>\n",
       "      <td>3</td>\n",
       "      <td>2818</td>\n",
       "      <td>141.59</td>\n",
       "      <td>Short Sale</td>\n",
       "    </tr>\n",
       "    <tr>\n",
       "      <th>2</th>\n",
       "      <td>135141</td>\n",
       "      <td>545000</td>\n",
       "      <td>4</td>\n",
       "      <td>3</td>\n",
       "      <td>3032</td>\n",
       "      <td>179.75</td>\n",
       "      <td>Short Sale</td>\n",
       "    </tr>\n",
       "    <tr>\n",
       "      <th>3</th>\n",
       "      <td>135712</td>\n",
       "      <td>909000</td>\n",
       "      <td>4</td>\n",
       "      <td>4</td>\n",
       "      <td>3540</td>\n",
       "      <td>256.78</td>\n",
       "      <td>Short Sale</td>\n",
       "    </tr>\n",
       "    <tr>\n",
       "      <th>4</th>\n",
       "      <td>136282</td>\n",
       "      <td>109900</td>\n",
       "      <td>3</td>\n",
       "      <td>1</td>\n",
       "      <td>1249</td>\n",
       "      <td>87.99</td>\n",
       "      <td>Short Sale</td>\n",
       "    </tr>\n",
       "    <tr>\n",
       "      <th>...</th>\n",
       "      <td>...</td>\n",
       "      <td>...</td>\n",
       "      <td>...</td>\n",
       "      <td>...</td>\n",
       "      <td>...</td>\n",
       "      <td>...</td>\n",
       "      <td>...</td>\n",
       "    </tr>\n",
       "    <tr>\n",
       "      <th>776</th>\n",
       "      <td>154562</td>\n",
       "      <td>319900</td>\n",
       "      <td>3</td>\n",
       "      <td>3</td>\n",
       "      <td>1605</td>\n",
       "      <td>199.31</td>\n",
       "      <td>Regular</td>\n",
       "    </tr>\n",
       "    <tr>\n",
       "      <th>777</th>\n",
       "      <td>154565</td>\n",
       "      <td>495000</td>\n",
       "      <td>3</td>\n",
       "      <td>2</td>\n",
       "      <td>1877</td>\n",
       "      <td>263.72</td>\n",
       "      <td>Regular</td>\n",
       "    </tr>\n",
       "    <tr>\n",
       "      <th>778</th>\n",
       "      <td>154566</td>\n",
       "      <td>372000</td>\n",
       "      <td>3</td>\n",
       "      <td>2</td>\n",
       "      <td>1104</td>\n",
       "      <td>336.96</td>\n",
       "      <td>Foreclosure</td>\n",
       "    </tr>\n",
       "    <tr>\n",
       "      <th>779</th>\n",
       "      <td>154575</td>\n",
       "      <td>589000</td>\n",
       "      <td>3</td>\n",
       "      <td>2</td>\n",
       "      <td>1975</td>\n",
       "      <td>298.23</td>\n",
       "      <td>Regular</td>\n",
       "    </tr>\n",
       "    <tr>\n",
       "      <th>780</th>\n",
       "      <td>154580</td>\n",
       "      <td>1100000</td>\n",
       "      <td>3</td>\n",
       "      <td>3</td>\n",
       "      <td>2392</td>\n",
       "      <td>459.87</td>\n",
       "      <td>Regular</td>\n",
       "    </tr>\n",
       "  </tbody>\n",
       "</table>\n",
       "<p>781 rows × 7 columns</p>\n",
       "</div>"
      ],
      "text/plain": [
       "        MLS    Price  Bedrooms  Bathrooms  Size  Price/SQ.Ft       Status\n",
       "0    132842   795000         3          3  2371       335.30   Short Sale\n",
       "1    134364   399000         4          3  2818       141.59   Short Sale\n",
       "2    135141   545000         4          3  3032       179.75   Short Sale\n",
       "3    135712   909000         4          4  3540       256.78   Short Sale\n",
       "4    136282   109900         3          1  1249        87.99   Short Sale\n",
       "..      ...      ...       ...        ...   ...          ...          ...\n",
       "776  154562   319900         3          3  1605       199.31      Regular\n",
       "777  154565   495000         3          2  1877       263.72      Regular\n",
       "778  154566   372000         3          2  1104       336.96  Foreclosure\n",
       "779  154575   589000         3          2  1975       298.23      Regular\n",
       "780  154580  1100000         3          3  2392       459.87      Regular\n",
       "\n",
       "[781 rows x 7 columns]"
      ]
     },
     "execution_count": 6,
     "metadata": {},
     "output_type": "execute_result"
    }
   ],
   "source": [
    "# TODO\n",
    "df.drop(columns=['Location'])"
   ]
  },
  {
   "cell_type": "markdown",
   "metadata": {},
   "source": [
    "Let's rename the first column. \n",
    "\n",
    "Hint: A Google search for 'python pandas dataframe rename' points you at this documentation \n",
    "https://pandas.pydata.org/pandas-docs/stable/reference/api/pandas.DataFrame.rename.html"
   ]
  },
  {
   "cell_type": "code",
   "execution_count": 7,
   "metadata": {
    "id": "bMLS4IqOpGoQ",
    "outputId": "243a1af0-bfe1-42d6-f14a-c2a247d1a214"
   },
   "outputs": [
    {
     "name": "stdout",
     "output_type": "stream",
     "text": [
      "Before rename Index(['MLS', 'Location', 'Price', 'Bedrooms', 'Bathrooms', 'Size',\n",
      "       'Price/SQ.Ft', 'Status'],\n",
      "      dtype='object')\n",
      "After rename Index(['MLSB', 'Location', 'Price', 'Bedrooms', 'Bathrooms', 'Size',\n",
      "       'Price/SQ.Ft', 'Status'],\n",
      "      dtype='object')\n"
     ]
    }
   ],
   "source": [
    "print (\"Before rename\", df.columns)\n",
    "#TODO\n",
    "\n",
    "df.rename(columns={'MLS':'MLSB'}, inplace=True)\n",
    "\n",
    "print (\"After rename\", df.columns)\n"
   ]
  },
  {
   "cell_type": "markdown",
   "metadata": {
    "id": "pc9BF6glpGoT"
   },
   "source": [
    "What is the max, min, mean/avg, and standard deviation of the column 'Bedrooms'?"
   ]
  },
  {
   "cell_type": "code",
   "execution_count": 8,
   "metadata": {
    "id": "uGqcmuVvpGoT"
   },
   "outputs": [
    {
     "name": "stdout",
     "output_type": "stream",
     "text": [
      "max =  10\n",
      "min =  0\n",
      "Avg =  3.1421254801536493\n",
      "std =  0.8557678151609314\n"
     ]
    }
   ],
   "source": [
    "# TODO\n",
    "print(\"max = \", df.Bedrooms.max())\n",
    "print(\"min = \", df.Bedrooms.min())\n",
    "print(\"Avg = \", df.Bedrooms.mean())\n",
    "print(\"std = \", df.Bedrooms.std())"
   ]
  },
  {
   "cell_type": "markdown",
   "metadata": {
    "id": "mM2PDyNdpGoV"
   },
   "source": [
    "Plot the distribution of 'Price/SQ.Ft' using matplotlib"
   ]
  },
  {
   "cell_type": "code",
   "execution_count": 9,
   "metadata": {
    "id": "kesFl8bqpGoW"
   },
   "outputs": [
    {
     "data": {
      "text/plain": [
       "<AxesSubplot:>"
      ]
     },
     "execution_count": 9,
     "metadata": {},
     "output_type": "execute_result"
    },
    {
     "data": {
      "image/png": "[encoded data removed]",
      "text/plain": [
       "<Figure size 432x288 with 1 Axes>"
      ]
     },
     "metadata": {
      "needs_background": "light"
     },
     "output_type": "display_data"
    }
   ],
   "source": [
    "# TODO\n",
    "import matplotlib\n",
    "df['Price/SQ.Ft'].hist()"
   ]
  },
  {
   "cell_type": "markdown",
   "metadata": {
    "id": "LdyKhDu8pGoY"
   },
   "source": [
    "One of the best ways to inspect data is visualize it. One way to do this is by using a scatter plot. A scatter plot of the data puts one feature along the x-axis and another along the y-axis, and draws a dot for each data point. \n",
    "\n",
    "Since its difficult to visualize more than 2 or 3 features, one possibility is to use a pair plot that looks at all possible pairs of features. The pair plot shows the interaction of each pair of features inorder to visualize any correlation between features. "
   ]
  },
  {
   "cell_type": "code",
   "execution_count": 10,
   "metadata": {
    "id": "OnKU2n7UpGoY",
    "outputId": "3d3212e4-b05c-4e10-8b76-5f2691768ff5",
    "scrolled": true
   },
   "outputs": [
    {
     "ename": "ModuleNotFoundError",
     "evalue": "No module named 'pandas.tools'",
     "output_type": "error",
     "traceback": [
      "\u001b[0;31m---------------------------------------------------------------------------\u001b[0m",
      "\u001b[0;31mModuleNotFoundError\u001b[0m                       Traceback (most recent call last)",
      "\u001b[0;32m<ipython-input-10-17f453f1a6d0>\u001b[0m in \u001b[0;36m<module>\u001b[0;34m\u001b[0m\n\u001b[1;32m      1\u001b[0m \u001b[0;31m# import the scatter_matrix functionality\u001b[0m\u001b[0;34m\u001b[0m\u001b[0;34m\u001b[0m\u001b[0;34m\u001b[0m\u001b[0m\n\u001b[1;32m      2\u001b[0m \u001b[0;32mimport\u001b[0m \u001b[0mrandom\u001b[0m \u001b[0;32mas\u001b[0m \u001b[0mrand\u001b[0m\u001b[0;34m\u001b[0m\u001b[0;34m\u001b[0m\u001b[0m\n\u001b[0;32m----> 3\u001b[0;31m \u001b[0;32mfrom\u001b[0m \u001b[0mpandas\u001b[0m\u001b[0;34m.\u001b[0m\u001b[0mtools\u001b[0m\u001b[0;34m.\u001b[0m\u001b[0mplotting\u001b[0m \u001b[0;32mimport\u001b[0m \u001b[0mscatter_matrix\u001b[0m\u001b[0;34m\u001b[0m\u001b[0;34m\u001b[0m\u001b[0m\n\u001b[0m\u001b[1;32m      4\u001b[0m \u001b[0;32mimport\u001b[0m \u001b[0mmatplotlib\u001b[0m\u001b[0;34m.\u001b[0m\u001b[0mpyplot\u001b[0m \u001b[0;32mas\u001b[0m \u001b[0mplt\u001b[0m\u001b[0;34m\u001b[0m\u001b[0;34m\u001b[0m\u001b[0m\n\u001b[1;32m      5\u001b[0m \u001b[0;34m\u001b[0m\u001b[0m\n",
      "\u001b[0;31mModuleNotFoundError\u001b[0m: No module named 'pandas.tools'"
     ]
    }
   ],
   "source": [
    "# import the scatter_matrix functionality\n",
    "import random as rand\n",
    "from pandas.tools.plotting import scatter_matrix\n",
    "import matplotlib.pyplot as plt\n",
    "\n",
    "print (df.shape)\n",
    "x = df.iloc[:,[1,2,3,4,5]] # extract only a subset of columns from dataframe (using index)\n",
    "y = x.dropna(thresh=5) # drop any rows that have 5 or more fields as NAN  \n",
    "a = pd.scatter_matrix(x, alpha=0.05, figsize=(5,5), diagonal='hist')\n",
    "plt.show()"
   ]
  },
  {
   "cell_type": "code",
   "execution_count": null,
   "metadata": {
    "id": "iTkPFkqKpGob",
    "outputId": "c51c4b9b-bd51-40cf-c09f-d171c5e905db"
   },
   "outputs": [],
   "source": [
    "#Lets plot the Price vs Size of the homes\n",
    "\n",
    "fig=plt.figure()\n",
    "plt.scatter(df.Price, df.Size)\n",
    "axis = fig.gca() #get current axis\n",
    "axis.set_title('Price vs Size')\n",
    "axis.set_xlabel('Price')\n",
    "axis.set_ylabel('Size')\n",
    "fig.canvas.draw()"
   ]
  },
  {
   "cell_type": "markdown",
   "metadata": {
    "id": "2V6PqV9vpGod"
   },
   "source": [
    "What does the visualizations and the statistics we observed tell you so far. Include your comments and code below"
   ]
  },
  {
   "cell_type": "markdown",
   "metadata": {
    "id": "QYPCsN2qpGod"
   },
   "source": [
    "A: The price and house has a postive relation, the intresting thing is that there is some outlier but that probably has something to do with location. "
   ]
  },
  {
   "cell_type": "markdown",
   "metadata": {
    "id": "RO9yvGu3RyDk"
   },
   "source": [
    "Is there any other interesting stats or visualizations you think might be helpful."
   ]
  },
  {
   "cell_type": "markdown",
   "metadata": {
    "id": "N8R9yq8wRy1O"
   },
   "source": [
    "A: Compare the loaction with Price/SQ.Ft, we can see how location effect the price of the houses. "
   ]
  },
  {
   "cell_type": "markdown",
   "metadata": {
    "id": "CrXkvHQ0pGof"
   },
   "source": [
    "## Categorical Encoding\n",
    "If we have categorical or continuous variables and we would like to encode them into discrete integer files (like 0, 1, 2, ...) we can use several tricks in pandas to do this."
   ]
  },
  {
   "cell_type": "code",
   "execution_count": null,
   "metadata": {
    "id": "VENbjEV6pGof",
    "outputId": "0f81db8f-9823-4115-892c-a6b9254efef7"
   },
   "outputs": [],
   "source": [
    "# Approach 1 - Pandas makes it easy for us to directly replace the text values with their numeric equivalent by using replace .\n",
    "\n",
    "newValues = {\"Status\": {\"Foreclosure\": 1, \"Short Sale\": 2, \"Regular\" : 3}}\n",
    "df2 = df.replace(newValues, inplace=False )\n",
    "df2.head()"
   ]
  },
  {
   "cell_type": "code",
   "execution_count": null,
   "metadata": {
    "id": "yMyW7cjspGoi",
    "outputId": "60e95b56-bbb1-4b27-90ee-bbcf43daa2e2"
   },
   "outputs": [],
   "source": [
    "# Approach 2 - Another approach to encoding categorical values is to use a technique called label encoding.\n",
    "# Label encoding is simply converting each value in a column to a number.\n",
    "\n",
    "# One trick you can use in pandas is to convert a column to a category, then use those category \n",
    "# values for your label encoding. \n",
    "\n",
    "df[\"Status\"] = df[\"Status\"].astype('category')\n",
    "df.dtypes\n",
    "\n",
    "# Then you can assign the encoded variable to a new column using the cat.codes accessor.\n",
    "df[\"Status_cat\"] = df[\"Status\"].cat.codes\n",
    "df.head()"
   ]
  },
  {
   "cell_type": "code",
   "execution_count": null,
   "metadata": {
    "id": "yEr05kWSpGok",
    "outputId": "7b87163a-8746-436f-f44a-f65631ee3559"
   },
   "outputs": [],
   "source": [
    "\"\"\"Approach 3 - Label encoding has the advantage that it is straightforward but it has the \n",
    "   disadvantage that the numeric values can be “misinterpreted” by the algorithms. For example, \n",
    "   the value of 1 is obviously less than the value of 3 but does that really correspond to the data set in real life?\n",
    "   For example, is \"Foreclosure\" =1 closer to \"Short Sale\" =2 compared to \"Regular\" =3?\n",
    "\n",
    "   A common alternative approach is called one hot encoding. The basic strategy is to convert each category value \n",
    "   into a new column and assigns a 1 or 0 (True/False) value to the column. This has the benefit of not weighting \n",
    "   a value improperly but does have the downside of adding more columns to the data set.\n",
    "\n",
    "   Pandas supports this feature using get_dummies. This function is named this way because it creates \n",
    "   dummy/indicator variables (aka 1 or 0).\"\"\"\n",
    "\n",
    "pd.get_dummies(df, columns=[\"Status\"], prefix=[\"new\"]).head()\n",
    "\n",
    "# basically, it creates a 3 new columns (one for each unique value in the column.) with the prefix \"new_\""
   ]
  },
  {
   "cell_type": "markdown",
   "metadata": {
    "id": "2L8Z7JNMpGom"
   },
   "source": [
    "# Submission Instructions"
   ]
  },
  {
   "cell_type": "markdown",
   "metadata": {
    "id": "JoTBnXuepGon"
   },
   "source": [
    "\n",
    "\n",
    "> Indented block\n",
    "\n",
    "> Indented block\n",
    "\n",
    "\n",
    "\n",
    "\n",
    "\n",
    "\n",
    "\n",
    "\n",
    "Upload the .ipyn notbook to Canvas.\n",
    "\n",
    "Have the TA check your lab to obtain credit."
   ]
  },
  {
   "cell_type": "code",
   "execution_count": null,
   "metadata": {
    "id": "VS0plkafpGon"
   },
   "outputs": [],
   "source": []
  }
 ],
 "metadata": {
  "colab": {
   "collapsed_sections": [],
   "name": "1B. Exploratory Data Analysis.ipynb",
   "provenance": []
  },
  "kernelspec": {
   "display_name": "Python 3",
   "language": "python",
   "name": "python3"
  },
  "language_info": {
   "codemirror_mode": {
    "name": "ipython",
    "version": 3
   },
   "file_extension": ".py",
   "mimetype": "text/x-python",
   "name": "python",
   "nbconvert_exporter": "python",
   "pygments_lexer": "ipython3",
   "version": "3.8.10"
  }
 },
 "nbformat": 4,
 "nbformat_minor": 4
}
