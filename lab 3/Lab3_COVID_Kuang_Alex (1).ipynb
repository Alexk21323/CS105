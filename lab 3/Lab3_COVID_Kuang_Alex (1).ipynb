{
 "cells": [
  {
   "cell_type": "code",
   "execution_count": 1,
   "id": "adb49da2-0989-4fd0-921f-a295afc697e0",
   "metadata": {},
   "outputs": [
    {
     "name": "stdout",
     "output_type": "stream",
     "text": [
      "Requirement already satisfied (use --upgrade to upgrade): sodapy in /home/csmajs/akuan004/.local/lib/python2.7/site-packages\n",
      "Requirement already satisfied (use --upgrade to upgrade): requests>=2.20.0 in /home/csmajs/akuan004/.local/lib/python2.7/site-packages (from sodapy)\n",
      "Requirement already satisfied (use --upgrade to upgrade): certifi>=2017.4.17 in /home/csmajs/akuan004/.local/lib/python2.7/site-packages (from requests>=2.20.0->sodapy)\n",
      "Requirement already satisfied (use --upgrade to upgrade): urllib3<1.27,>=1.21.1 in /home/csmajs/akuan004/.local/lib/python2.7/site-packages (from requests>=2.20.0->sodapy)\n",
      "Requirement already satisfied (use --upgrade to upgrade): idna<3,>=2.5; python_version < \"3\" in /home/csmajs/akuan004/.local/lib/python2.7/site-packages (from requests>=2.20.0->sodapy)\n",
      "Requirement already satisfied (use --upgrade to upgrade): chardet<5,>=3.0.2; python_version < \"3\" in /home/csmajs/akuan004/.local/lib/python2.7/site-packages (from requests>=2.20.0->sodapy)\n",
      "\u001b[33mYou are using pip version 8.1.2, however version 21.2.4 is available.\n",
      "You should consider upgrading via the 'pip install --upgrade pip' command.\u001b[0m\n"
     ]
    }
   ],
   "source": [
    "!pip install --user sodapy"
   ]
  },
  {
   "cell_type": "code",
   "execution_count": 2,
   "id": "19cf81b5-0128-477f-9c30-1dcf2f8417a3",
   "metadata": {},
   "outputs": [
    {
     "name": "stderr",
     "output_type": "stream",
     "text": [
      "WARNING:root:Requests made without an app_token will be subject to strict throttling limits.\n"
     ]
    }
   ],
   "source": [
    "import pandas as pd\n",
    "import sodapy\n",
    "import matplotlib\n",
    "import matplotlib.pyplot as plt\n",
    "%matplotlib inline\n",
    "from sodapy import Socrata\n",
    "\n",
    "\n",
    "client = Socrata(\"data.cdc.gov\", None)\n",
    "\n",
    "\n",
    "results = client.get(\"n8mc-b4w4\", limit=15000)\n",
    "\n",
    "\n",
    "results_df = pd.DataFrame.from_records(results)"
   ]
  },
  {
   "cell_type": "code",
   "execution_count": 3,
   "id": "a9b0fdb9-e4c6-4701-ad91-58825d79369f",
   "metadata": {},
   "outputs": [
    {
     "data": {
      "text/html": [
       "<div>\n",
       "<style scoped>\n",
       "    .dataframe tbody tr th:only-of-type {\n",
       "        vertical-align: middle;\n",
       "    }\n",
       "\n",
       "    .dataframe tbody tr th {\n",
       "        vertical-align: top;\n",
       "    }\n",
       "\n",
       "    .dataframe thead th {\n",
       "        text-align: right;\n",
       "    }\n",
       "</style>\n",
       "<table border=\"1\" class=\"dataframe\">\n",
       "  <thead>\n",
       "    <tr style=\"text-align: right;\">\n",
       "      <th></th>\n",
       "      <th>case_month</th>\n",
       "      <th>res_state</th>\n",
       "      <th>state_fips_code</th>\n",
       "      <th>res_county</th>\n",
       "      <th>county_fips_code</th>\n",
       "      <th>age_group</th>\n",
       "      <th>sex</th>\n",
       "      <th>race</th>\n",
       "      <th>ethnicity</th>\n",
       "      <th>case_positive_specimen</th>\n",
       "      <th>case_onset_interval</th>\n",
       "      <th>process</th>\n",
       "      <th>exposure_yn</th>\n",
       "      <th>current_status</th>\n",
       "      <th>symptom_status</th>\n",
       "      <th>hosp_yn</th>\n",
       "      <th>icu_yn</th>\n",
       "      <th>death_yn</th>\n",
       "      <th>underlying_conditions_yn</th>\n",
       "    </tr>\n",
       "  </thead>\n",
       "  <tbody>\n",
       "    <tr>\n",
       "      <th>0</th>\n",
       "      <td>2020-12</td>\n",
       "      <td>MN</td>\n",
       "      <td>27</td>\n",
       "      <td>DODGE</td>\n",
       "      <td>27039</td>\n",
       "      <td>18 to 49 years</td>\n",
       "      <td>NA</td>\n",
       "      <td>NA</td>\n",
       "      <td>NA</td>\n",
       "      <td>-1.0</td>\n",
       "      <td>0.0</td>\n",
       "      <td>Missing</td>\n",
       "      <td>Missing</td>\n",
       "      <td>Laboratory-confirmed case</td>\n",
       "      <td>Symptomatic</td>\n",
       "      <td>Missing</td>\n",
       "      <td>Missing</td>\n",
       "      <td>No</td>\n",
       "      <td>NaN</td>\n",
       "    </tr>\n",
       "    <tr>\n",
       "      <th>1</th>\n",
       "      <td>2020-11</td>\n",
       "      <td>MI</td>\n",
       "      <td>26</td>\n",
       "      <td>GLADWIN</td>\n",
       "      <td>26051</td>\n",
       "      <td>18 to 49 years</td>\n",
       "      <td>NA</td>\n",
       "      <td>NA</td>\n",
       "      <td>NA</td>\n",
       "      <td>NaN</td>\n",
       "      <td>NaN</td>\n",
       "      <td>Missing</td>\n",
       "      <td>Missing</td>\n",
       "      <td>Laboratory-confirmed case</td>\n",
       "      <td>Missing</td>\n",
       "      <td>Missing</td>\n",
       "      <td>Missing</td>\n",
       "      <td>Unknown</td>\n",
       "      <td>NaN</td>\n",
       "    </tr>\n",
       "    <tr>\n",
       "      <th>2</th>\n",
       "      <td>2021-04</td>\n",
       "      <td>VT</td>\n",
       "      <td>50</td>\n",
       "      <td>ORLEANS</td>\n",
       "      <td>50019</td>\n",
       "      <td>18 to 49 years</td>\n",
       "      <td>NA</td>\n",
       "      <td>NA</td>\n",
       "      <td>NA</td>\n",
       "      <td>0.0</td>\n",
       "      <td>0.0</td>\n",
       "      <td>Multiple</td>\n",
       "      <td>Yes</td>\n",
       "      <td>Laboratory-confirmed case</td>\n",
       "      <td>Symptomatic</td>\n",
       "      <td>No</td>\n",
       "      <td>Missing</td>\n",
       "      <td>NA</td>\n",
       "      <td>Yes</td>\n",
       "    </tr>\n",
       "    <tr>\n",
       "      <th>3</th>\n",
       "      <td>2020-11</td>\n",
       "      <td>AL</td>\n",
       "      <td>01</td>\n",
       "      <td>LIMESTONE</td>\n",
       "      <td>01083</td>\n",
       "      <td>0 - 17 years</td>\n",
       "      <td>Female</td>\n",
       "      <td>Missing</td>\n",
       "      <td>Missing</td>\n",
       "      <td>NaN</td>\n",
       "      <td>NaN</td>\n",
       "      <td>Missing</td>\n",
       "      <td>Missing</td>\n",
       "      <td>Laboratory-confirmed case</td>\n",
       "      <td>Missing</td>\n",
       "      <td>Missing</td>\n",
       "      <td>Missing</td>\n",
       "      <td>Missing</td>\n",
       "      <td>NaN</td>\n",
       "    </tr>\n",
       "    <tr>\n",
       "      <th>4</th>\n",
       "      <td>2021-01</td>\n",
       "      <td>NY</td>\n",
       "      <td>36</td>\n",
       "      <td>SCHOHARIE</td>\n",
       "      <td>36095</td>\n",
       "      <td>0 - 17 years</td>\n",
       "      <td>Female</td>\n",
       "      <td>NA</td>\n",
       "      <td>NA</td>\n",
       "      <td>0.0</td>\n",
       "      <td>NaN</td>\n",
       "      <td>Missing</td>\n",
       "      <td>Missing</td>\n",
       "      <td>Laboratory-confirmed case</td>\n",
       "      <td>Missing</td>\n",
       "      <td>Missing</td>\n",
       "      <td>Missing</td>\n",
       "      <td>No</td>\n",
       "      <td>NaN</td>\n",
       "    </tr>\n",
       "  </tbody>\n",
       "</table>\n",
       "</div>"
      ],
      "text/plain": [
       "  case_month res_state state_fips_code res_county county_fips_code  \\\n",
       "0    2020-12        MN              27      DODGE            27039   \n",
       "1    2020-11        MI              26    GLADWIN            26051   \n",
       "2    2021-04        VT              50    ORLEANS            50019   \n",
       "3    2020-11        AL              01  LIMESTONE            01083   \n",
       "4    2021-01        NY              36  SCHOHARIE            36095   \n",
       "\n",
       "        age_group     sex     race ethnicity case_positive_specimen  \\\n",
       "0  18 to 49 years      NA       NA        NA                   -1.0   \n",
       "1  18 to 49 years      NA       NA        NA                    NaN   \n",
       "2  18 to 49 years      NA       NA        NA                    0.0   \n",
       "3    0 - 17 years  Female  Missing   Missing                    NaN   \n",
       "4    0 - 17 years  Female       NA        NA                    0.0   \n",
       "\n",
       "  case_onset_interval   process exposure_yn             current_status  \\\n",
       "0                 0.0   Missing     Missing  Laboratory-confirmed case   \n",
       "1                 NaN   Missing     Missing  Laboratory-confirmed case   \n",
       "2                 0.0  Multiple         Yes  Laboratory-confirmed case   \n",
       "3                 NaN   Missing     Missing  Laboratory-confirmed case   \n",
       "4                 NaN   Missing     Missing  Laboratory-confirmed case   \n",
       "\n",
       "  symptom_status  hosp_yn   icu_yn death_yn underlying_conditions_yn  \n",
       "0    Symptomatic  Missing  Missing       No                      NaN  \n",
       "1        Missing  Missing  Missing  Unknown                      NaN  \n",
       "2    Symptomatic       No  Missing       NA                      Yes  \n",
       "3        Missing  Missing  Missing  Missing                      NaN  \n",
       "4        Missing  Missing  Missing       No                      NaN  "
      ]
     },
     "execution_count": 3,
     "metadata": {},
     "output_type": "execute_result"
    }
   ],
   "source": [
    "results_df.head()"
   ]
  },
  {
   "cell_type": "code",
   "execution_count": 4,
   "id": "8775a179-bfde-4472-ac91-b46ab0f34381",
   "metadata": {},
   "outputs": [
    {
     "name": "stdout",
     "output_type": "stream",
     "text": [
      "case_month 0\n",
      "res_state 0\n",
      "state_fips_code 0\n",
      "res_county 0\n",
      "county_fips_code 0\n",
      "age_group 124\n",
      "sex 30\n",
      "race 2193\n",
      "ethnicity 2527\n",
      "case_positive_specimen 10050\n",
      "case_onset_interval 7830\n",
      "process 14204\n",
      "exposure_yn 13059\n",
      "current_status 0\n",
      "symptom_status 6385\n",
      "hosp_yn 6910\n",
      "icu_yn 12493\n",
      "death_yn 4832\n",
      "underlying_conditions_yn 14033\n"
     ]
    }
   ],
   "source": [
    "for col in results_df.columns:\n",
    "    if results_df[col].dtype == object:\n",
    "        count = 0\n",
    "        count = [count + 1 for x in results_df[col] if x == 'Missing'or pd.isna(x)]\n",
    "        print(col + ' ' + str(sum(count)))"
   ]
  },
  {
   "cell_type": "markdown",
   "id": "394feb6b-9b75-4333-aa1f-2ab0ff892d7d",
   "metadata": {},
   "source": [
    "I am counting the number of missing entries in each column. To do this I am increasing count everytime there is missing or NaN"
   ]
  },
  {
   "cell_type": "code",
   "execution_count": 5,
   "id": "3d1cac9d-0c17-4264-8182-607650967d07",
   "metadata": {},
   "outputs": [],
   "source": [
    "results_df.drop('process', axis = 1, inplace = True)\n",
    "results_df.drop('icu_yn', axis = 1, inplace = True)\n",
    "results_df.drop('underlying_conditions_yn', axis = 1, inplace = True)\n",
    "results_df.drop('exposure_yn', axis = 1, inplace = True)\n",
    "results_df.drop('case_positive_specimen', axis = 1, inplace = True)\n",
    "results_df.fillna({\"sex\":\"Missing\",\"race\":\"Missing\"})\n",
    "# combinding the missing group \n",
    "results_df['age_group'] = results_df['age_group'].replace(['NA'],'Missing')\n",
    "results_df['ethnicity'] = results_df['ethnicity'].replace(['NA','Unknown'],'Missing')\n",
    "results_df['sex'] = results_df['sex'].replace(['NA','Unknown'],'Missing')"
   ]
  },
  {
   "cell_type": "code",
   "execution_count": 6,
   "id": "7a343038-a334-43de-95e6-71c461437f79",
   "metadata": {},
   "outputs": [
    {
     "data": {
      "text/html": [
       "<div>\n",
       "<style scoped>\n",
       "    .dataframe tbody tr th:only-of-type {\n",
       "        vertical-align: middle;\n",
       "    }\n",
       "\n",
       "    .dataframe tbody tr th {\n",
       "        vertical-align: top;\n",
       "    }\n",
       "\n",
       "    .dataframe thead th {\n",
       "        text-align: right;\n",
       "    }\n",
       "</style>\n",
       "<table border=\"1\" class=\"dataframe\">\n",
       "  <thead>\n",
       "    <tr style=\"text-align: right;\">\n",
       "      <th></th>\n",
       "      <th>case_month</th>\n",
       "      <th>res_state</th>\n",
       "      <th>state_fips_code</th>\n",
       "      <th>res_county</th>\n",
       "      <th>county_fips_code</th>\n",
       "      <th>age_group</th>\n",
       "      <th>sex</th>\n",
       "      <th>race</th>\n",
       "      <th>ethnicity</th>\n",
       "      <th>case_onset_interval</th>\n",
       "      <th>current_status</th>\n",
       "      <th>symptom_status</th>\n",
       "      <th>hosp_yn</th>\n",
       "      <th>death_yn</th>\n",
       "    </tr>\n",
       "  </thead>\n",
       "  <tbody>\n",
       "    <tr>\n",
       "      <th>0</th>\n",
       "      <td>2020-12</td>\n",
       "      <td>MN</td>\n",
       "      <td>27</td>\n",
       "      <td>DODGE</td>\n",
       "      <td>27039</td>\n",
       "      <td>18 to 49 years</td>\n",
       "      <td>Missing</td>\n",
       "      <td>NA</td>\n",
       "      <td>Missing</td>\n",
       "      <td>0.0</td>\n",
       "      <td>Laboratory-confirmed case</td>\n",
       "      <td>Symptomatic</td>\n",
       "      <td>Missing</td>\n",
       "      <td>No</td>\n",
       "    </tr>\n",
       "    <tr>\n",
       "      <th>1</th>\n",
       "      <td>2020-11</td>\n",
       "      <td>MI</td>\n",
       "      <td>26</td>\n",
       "      <td>GLADWIN</td>\n",
       "      <td>26051</td>\n",
       "      <td>18 to 49 years</td>\n",
       "      <td>Missing</td>\n",
       "      <td>NA</td>\n",
       "      <td>Missing</td>\n",
       "      <td>NaN</td>\n",
       "      <td>Laboratory-confirmed case</td>\n",
       "      <td>Missing</td>\n",
       "      <td>Missing</td>\n",
       "      <td>Unknown</td>\n",
       "    </tr>\n",
       "    <tr>\n",
       "      <th>2</th>\n",
       "      <td>2021-04</td>\n",
       "      <td>VT</td>\n",
       "      <td>50</td>\n",
       "      <td>ORLEANS</td>\n",
       "      <td>50019</td>\n",
       "      <td>18 to 49 years</td>\n",
       "      <td>Missing</td>\n",
       "      <td>NA</td>\n",
       "      <td>Missing</td>\n",
       "      <td>0.0</td>\n",
       "      <td>Laboratory-confirmed case</td>\n",
       "      <td>Symptomatic</td>\n",
       "      <td>No</td>\n",
       "      <td>NA</td>\n",
       "    </tr>\n",
       "    <tr>\n",
       "      <th>3</th>\n",
       "      <td>2020-11</td>\n",
       "      <td>AL</td>\n",
       "      <td>01</td>\n",
       "      <td>LIMESTONE</td>\n",
       "      <td>01083</td>\n",
       "      <td>0 - 17 years</td>\n",
       "      <td>Female</td>\n",
       "      <td>Missing</td>\n",
       "      <td>Missing</td>\n",
       "      <td>NaN</td>\n",
       "      <td>Laboratory-confirmed case</td>\n",
       "      <td>Missing</td>\n",
       "      <td>Missing</td>\n",
       "      <td>Missing</td>\n",
       "    </tr>\n",
       "    <tr>\n",
       "      <th>4</th>\n",
       "      <td>2021-01</td>\n",
       "      <td>NY</td>\n",
       "      <td>36</td>\n",
       "      <td>SCHOHARIE</td>\n",
       "      <td>36095</td>\n",
       "      <td>0 - 17 years</td>\n",
       "      <td>Female</td>\n",
       "      <td>NA</td>\n",
       "      <td>Missing</td>\n",
       "      <td>NaN</td>\n",
       "      <td>Laboratory-confirmed case</td>\n",
       "      <td>Missing</td>\n",
       "      <td>Missing</td>\n",
       "      <td>No</td>\n",
       "    </tr>\n",
       "    <tr>\n",
       "      <th>...</th>\n",
       "      <td>...</td>\n",
       "      <td>...</td>\n",
       "      <td>...</td>\n",
       "      <td>...</td>\n",
       "      <td>...</td>\n",
       "      <td>...</td>\n",
       "      <td>...</td>\n",
       "      <td>...</td>\n",
       "      <td>...</td>\n",
       "      <td>...</td>\n",
       "      <td>...</td>\n",
       "      <td>...</td>\n",
       "      <td>...</td>\n",
       "      <td>...</td>\n",
       "    </tr>\n",
       "    <tr>\n",
       "      <th>14995</th>\n",
       "      <td>2020-08</td>\n",
       "      <td>NC</td>\n",
       "      <td>37</td>\n",
       "      <td>MONTGOMERY</td>\n",
       "      <td>37123</td>\n",
       "      <td>18 to 49 years</td>\n",
       "      <td>Female</td>\n",
       "      <td>NA</td>\n",
       "      <td>Missing</td>\n",
       "      <td>NaN</td>\n",
       "      <td>Laboratory-confirmed case</td>\n",
       "      <td>Asymptomatic</td>\n",
       "      <td>Unknown</td>\n",
       "      <td>No</td>\n",
       "    </tr>\n",
       "    <tr>\n",
       "      <th>14996</th>\n",
       "      <td>2020-08</td>\n",
       "      <td>GA</td>\n",
       "      <td>13</td>\n",
       "      <td>PICKENS</td>\n",
       "      <td>13227</td>\n",
       "      <td>18 to 49 years</td>\n",
       "      <td>Female</td>\n",
       "      <td>Unknown</td>\n",
       "      <td>Missing</td>\n",
       "      <td>NaN</td>\n",
       "      <td>Laboratory-confirmed case</td>\n",
       "      <td>Missing</td>\n",
       "      <td>Missing</td>\n",
       "      <td>Missing</td>\n",
       "    </tr>\n",
       "    <tr>\n",
       "      <th>14997</th>\n",
       "      <td>2020-12</td>\n",
       "      <td>KY</td>\n",
       "      <td>21</td>\n",
       "      <td>PIKE</td>\n",
       "      <td>21195</td>\n",
       "      <td>18 to 49 years</td>\n",
       "      <td>Female</td>\n",
       "      <td>Missing</td>\n",
       "      <td>Missing</td>\n",
       "      <td>NaN</td>\n",
       "      <td>Laboratory-confirmed case</td>\n",
       "      <td>Missing</td>\n",
       "      <td>Missing</td>\n",
       "      <td>Missing</td>\n",
       "    </tr>\n",
       "    <tr>\n",
       "      <th>14998</th>\n",
       "      <td>2020-08</td>\n",
       "      <td>OH</td>\n",
       "      <td>39</td>\n",
       "      <td>ROSS</td>\n",
       "      <td>39141</td>\n",
       "      <td>18 to 49 years</td>\n",
       "      <td>Female</td>\n",
       "      <td>NA</td>\n",
       "      <td>Missing</td>\n",
       "      <td>0.0</td>\n",
       "      <td>Laboratory-confirmed case</td>\n",
       "      <td>Symptomatic</td>\n",
       "      <td>No</td>\n",
       "      <td>No</td>\n",
       "    </tr>\n",
       "    <tr>\n",
       "      <th>14999</th>\n",
       "      <td>2020-08</td>\n",
       "      <td>FL</td>\n",
       "      <td>12</td>\n",
       "      <td>TAYLOR</td>\n",
       "      <td>12123</td>\n",
       "      <td>18 to 49 years</td>\n",
       "      <td>Female</td>\n",
       "      <td>NA</td>\n",
       "      <td>Missing</td>\n",
       "      <td>0.0</td>\n",
       "      <td>Laboratory-confirmed case</td>\n",
       "      <td>Symptomatic</td>\n",
       "      <td>No</td>\n",
       "      <td>NA</td>\n",
       "    </tr>\n",
       "  </tbody>\n",
       "</table>\n",
       "<p>15000 rows × 14 columns</p>\n",
       "</div>"
      ],
      "text/plain": [
       "      case_month res_state state_fips_code  res_county county_fips_code  \\\n",
       "0        2020-12        MN              27       DODGE            27039   \n",
       "1        2020-11        MI              26     GLADWIN            26051   \n",
       "2        2021-04        VT              50     ORLEANS            50019   \n",
       "3        2020-11        AL              01   LIMESTONE            01083   \n",
       "4        2021-01        NY              36   SCHOHARIE            36095   \n",
       "...          ...       ...             ...         ...              ...   \n",
       "14995    2020-08        NC              37  MONTGOMERY            37123   \n",
       "14996    2020-08        GA              13     PICKENS            13227   \n",
       "14997    2020-12        KY              21        PIKE            21195   \n",
       "14998    2020-08        OH              39        ROSS            39141   \n",
       "14999    2020-08        FL              12      TAYLOR            12123   \n",
       "\n",
       "            age_group      sex     race ethnicity case_onset_interval  \\\n",
       "0      18 to 49 years  Missing       NA   Missing                 0.0   \n",
       "1      18 to 49 years  Missing       NA   Missing                 NaN   \n",
       "2      18 to 49 years  Missing       NA   Missing                 0.0   \n",
       "3        0 - 17 years   Female  Missing   Missing                 NaN   \n",
       "4        0 - 17 years   Female       NA   Missing                 NaN   \n",
       "...               ...      ...      ...       ...                 ...   \n",
       "14995  18 to 49 years   Female       NA   Missing                 NaN   \n",
       "14996  18 to 49 years   Female  Unknown   Missing                 NaN   \n",
       "14997  18 to 49 years   Female  Missing   Missing                 NaN   \n",
       "14998  18 to 49 years   Female       NA   Missing                 0.0   \n",
       "14999  18 to 49 years   Female       NA   Missing                 0.0   \n",
       "\n",
       "                  current_status symptom_status  hosp_yn death_yn  \n",
       "0      Laboratory-confirmed case    Symptomatic  Missing       No  \n",
       "1      Laboratory-confirmed case        Missing  Missing  Unknown  \n",
       "2      Laboratory-confirmed case    Symptomatic       No       NA  \n",
       "3      Laboratory-confirmed case        Missing  Missing  Missing  \n",
       "4      Laboratory-confirmed case        Missing  Missing       No  \n",
       "...                          ...            ...      ...      ...  \n",
       "14995  Laboratory-confirmed case   Asymptomatic  Unknown       No  \n",
       "14996  Laboratory-confirmed case        Missing  Missing  Missing  \n",
       "14997  Laboratory-confirmed case        Missing  Missing  Missing  \n",
       "14998  Laboratory-confirmed case    Symptomatic       No       No  \n",
       "14999  Laboratory-confirmed case    Symptomatic       No       NA  \n",
       "\n",
       "[15000 rows x 14 columns]"
      ]
     },
     "execution_count": 6,
     "metadata": {},
     "output_type": "execute_result"
    }
   ],
   "source": [
    "results_df"
   ]
  },
  {
   "cell_type": "code",
   "execution_count": 7,
   "id": "a79ce0a6-5a8b-4d80-ab34-6efcc28d2c97",
   "metadata": {},
   "outputs": [
    {
     "name": "stdout",
     "output_type": "stream",
     "text": [
      "case_month 0\n",
      "res_state 0\n",
      "state_fips_code 0\n",
      "res_county 0\n",
      "county_fips_code 0\n",
      "age_group 154\n",
      "sex 684\n",
      "race 2193\n",
      "ethnicity 9225\n",
      "case_onset_interval 7830\n",
      "current_status 0\n",
      "symptom_status 6385\n",
      "hosp_yn 6910\n",
      "death_yn 4832\n"
     ]
    }
   ],
   "source": [
    "for col in results_df.columns:\n",
    "    if results_df[col].dtype == object:\n",
    "        count = 0\n",
    "        count = [count + 1 for x in results_df[col] if x == 'Missing'or pd.isna(x)]\n",
    "        print(col + ' ' + str(sum(count)))"
   ]
  },
  {
   "cell_type": "markdown",
   "id": "cbe6bc61-d4cb-49c0-9fe1-6f19d624adb9",
   "metadata": {},
   "source": [
    "I am dropping all columns with more than 10000 missing or nan entries and combined all the missing catagroy to 1 group."
   ]
  },
  {
   "cell_type": "code",
   "execution_count": 8,
   "id": "d528beb6-e455-46d6-82ea-324414b24a9c",
   "metadata": {},
   "outputs": [
    {
     "data": {
      "text/plain": [
       "<AxesSubplot:xlabel='age_group'>"
      ]
     },
     "execution_count": 8,
     "metadata": {},
     "output_type": "execute_result"
    },
    {
     "data": {
      "image/png": "[encoded data removed]",
      "text/plain": [
       "<Figure size 720x360 with 1 Axes>"
      ]
     },
     "metadata": {
      "needs_background": "light"
     },
     "output_type": "display_data"
    }
   ],
   "source": [
    "results_df.groupby('age_group')['current_status'].count().plot(kind='bar', rot=0, figsize=(10,5))"
   ]
  },
  {
   "cell_type": "markdown",
   "id": "fca348bd-1315-408c-8794-7b5eb39b6ba2",
   "metadata": {},
   "source": [
    "The graph show the number of cases of each age group."
   ]
  },
  {
   "cell_type": "code",
   "execution_count": 9,
   "id": "53f39e8d-992f-45c3-b1b3-0dc529f2967c",
   "metadata": {},
   "outputs": [
    {
     "data": {
      "text/plain": [
       "<AxesSubplot:xlabel='ethnicity'>"
      ]
     },
     "execution_count": 9,
     "metadata": {},
     "output_type": "execute_result"
    },
    {
     "data": {
      "image/png": "[encoded data removed]",
      "text/plain": [
       "<Figure size 576x360 with 1 Axes>"
      ]
     },
     "metadata": {
      "needs_background": "light"
     },
     "output_type": "display_data"
    }
   ],
   "source": [
    "results_df.groupby('ethnicity')['current_status'].count().plot(kind='bar', rot=0, figsize=(8,5))"
   ]
  },
  {
   "cell_type": "markdown",
   "id": "59d99e2f-6556-4c75-82c4-be8ca12cee7e",
   "metadata": {},
   "source": [
    "The graph shows the number of cases of each ethnicity. "
   ]
  },
  {
   "cell_type": "code",
   "execution_count": 10,
   "id": "0e59a34e-bbf2-4422-b42b-0a254d7c10f4",
   "metadata": {},
   "outputs": [
    {
     "name": "stdout",
     "output_type": "stream",
     "text": [
      "46.53333333333333 percent showed symptoms\n"
     ]
    }
   ],
   "source": [
    "print(results_df[results_df['symptom_status']=='Symptomatic']['symptom_status'].count()/results_df['symptom_status'].count()*100 ,\"percent showed symptoms\")"
   ]
  },
  {
   "cell_type": "code",
   "execution_count": 11,
   "id": "d7cc2df0-ecf4-4c61-9f93-a595664f1465",
   "metadata": {},
   "outputs": [
    {
     "data": {
      "text/plain": [
       "<AxesSubplot:xlabel='age_group'>"
      ]
     },
     "execution_count": 11,
     "metadata": {},
     "output_type": "execute_result"
    },
    {
     "data": {
      "image/png": "[encoded data removed]",
      "text/plain": [
       "<Figure size 720x360 with 1 Axes>"
      ]
     },
     "metadata": {
      "needs_background": "light"
     },
     "output_type": "display_data"
    }
   ],
   "source": [
    "age = results_df[results_df['symptom_status']=='Symptomatic']\n",
    "age.groupby('age_group')['symptom_status'].count().plot(kind='bar', rot=0, figsize=(10,5))\n",
    "results_df.groupby('age_group')['symptom_status'].count().plot(kind='bar', rot=0, figsize=(10,5), alpha =0.5)"
   ]
  },
  {
   "cell_type": "markdown",
   "id": "a2028f9e-28bf-45b8-bbe1-fe2768b68fec",
   "metadata": {},
   "source": [
    "The graph shows the percentage of each age group that has a \"Systomatic\" status "
   ]
  },
  {
   "cell_type": "code",
   "execution_count": 12,
   "id": "9a3ccb96-a835-4deb-9429-00001befe2e9",
   "metadata": {},
   "outputs": [
    {
     "data": {
      "text/plain": [
       "<AxesSubplot:xlabel='ethnicity'>"
      ]
     },
     "execution_count": 12,
     "metadata": {},
     "output_type": "execute_result"
    },
    {
     "data": {
      "image/png": "[encoded data removed]",
      "text/plain": [
       "<Figure size 576x360 with 1 Axes>"
      ]
     },
     "metadata": {
      "needs_background": "light"
     },
     "output_type": "display_data"
    }
   ],
   "source": [
    "ethnicity = results_df[results_df['symptom_status']=='Symptomatic']\n",
    "ethnicity.groupby('ethnicity')['symptom_status'].count().plot(kind='bar', rot=0, figsize=(8,5))\n",
    "results_df.groupby('ethnicity')['symptom_status'].count().plot(kind='bar', rot=0, figsize=(8,5), alpha =0.5)"
   ]
  },
  {
   "cell_type": "markdown",
   "id": "c2bc823c-c379-40ce-86e5-bd8ca14ca214",
   "metadata": {},
   "source": [
    "The graph shows the percentage of each ethnicity  group that has a \"Systomatic\" status."
   ]
  },
  {
   "cell_type": "code",
   "execution_count": 13,
   "id": "580e45da-a934-41a6-b024-e2a8cd2ef98b",
   "metadata": {},
   "outputs": [
    {
     "data": {
      "text/plain": [
       "<AxesSubplot:xlabel='sex'>"
      ]
     },
     "execution_count": 13,
     "metadata": {},
     "output_type": "execute_result"
    },
    {
     "data": {
      "image/png": "[encoded data removed]",
      "text/plain": [
       "<Figure size 576x360 with 1 Axes>"
      ]
     },
     "metadata": {
      "needs_background": "light"
     },
     "output_type": "display_data"
    }
   ],
   "source": [
    "sex = results_df[results_df['symptom_status']=='Symptomatic']\n",
    "sex.groupby('sex')['symptom_status'].count().plot(kind='bar', rot=0, figsize=(8,5))\n",
    "results_df.groupby('sex')['symptom_status'].count().plot(kind='bar', rot=0, figsize=(8,5), alpha =0.5)"
   ]
  },
  {
   "cell_type": "markdown",
   "id": "0b751138-ec4d-4dd0-935d-bd8d55a16eac",
   "metadata": {},
   "source": [
    "The graph shows the percentage of each sex group that has a \"Systomatic\" status."
   ]
  },
  {
   "cell_type": "code",
   "execution_count": 14,
   "id": "be368aa7-7125-4244-a26d-a6004d45e857",
   "metadata": {},
   "outputs": [
    {
     "data": {
      "text/html": [
       "<div>\n",
       "<style scoped>\n",
       "    .dataframe tbody tr th:only-of-type {\n",
       "        vertical-align: middle;\n",
       "    }\n",
       "\n",
       "    .dataframe tbody tr th {\n",
       "        vertical-align: top;\n",
       "    }\n",
       "\n",
       "    .dataframe thead th {\n",
       "        text-align: right;\n",
       "    }\n",
       "</style>\n",
       "<table border=\"1\" class=\"dataframe\">\n",
       "  <thead>\n",
       "    <tr style=\"text-align: right;\">\n",
       "      <th></th>\n",
       "      <th>case_month</th>\n",
       "      <th>res_state</th>\n",
       "      <th>state_fips_code</th>\n",
       "      <th>res_county</th>\n",
       "      <th>county_fips_code</th>\n",
       "      <th>age_group</th>\n",
       "      <th>sex</th>\n",
       "      <th>race</th>\n",
       "      <th>ethnicity</th>\n",
       "      <th>process</th>\n",
       "      <th>exposure_yn</th>\n",
       "      <th>current_status</th>\n",
       "      <th>symptom_status</th>\n",
       "      <th>hosp_yn</th>\n",
       "      <th>icu_yn</th>\n",
       "      <th>death_yn</th>\n",
       "      <th>case_onset_interval</th>\n",
       "      <th>underlying_conditions_yn</th>\n",
       "    </tr>\n",
       "  </thead>\n",
       "  <tbody>\n",
       "    <tr>\n",
       "      <th>0</th>\n",
       "      <td>2020-08</td>\n",
       "      <td>CA</td>\n",
       "      <td>06</td>\n",
       "      <td>RIVERSIDE</td>\n",
       "      <td>06065</td>\n",
       "      <td>0 - 17 years</td>\n",
       "      <td>Female</td>\n",
       "      <td>White</td>\n",
       "      <td>Non-Hispanic/Latino</td>\n",
       "      <td>Missing</td>\n",
       "      <td>Missing</td>\n",
       "      <td>Laboratory-confirmed case</td>\n",
       "      <td>Unknown</td>\n",
       "      <td>No</td>\n",
       "      <td>Missing</td>\n",
       "      <td>No</td>\n",
       "      <td>NaN</td>\n",
       "      <td>NaN</td>\n",
       "    </tr>\n",
       "    <tr>\n",
       "      <th>1</th>\n",
       "      <td>2020-08</td>\n",
       "      <td>CA</td>\n",
       "      <td>06</td>\n",
       "      <td>RIVERSIDE</td>\n",
       "      <td>06065</td>\n",
       "      <td>0 - 17 years</td>\n",
       "      <td>Female</td>\n",
       "      <td>White</td>\n",
       "      <td>Non-Hispanic/Latino</td>\n",
       "      <td>Missing</td>\n",
       "      <td>Missing</td>\n",
       "      <td>Laboratory-confirmed case</td>\n",
       "      <td>Symptomatic</td>\n",
       "      <td>No</td>\n",
       "      <td>Missing</td>\n",
       "      <td>No</td>\n",
       "      <td>0.0</td>\n",
       "      <td>NaN</td>\n",
       "    </tr>\n",
       "    <tr>\n",
       "      <th>2</th>\n",
       "      <td>2020-08</td>\n",
       "      <td>CA</td>\n",
       "      <td>06</td>\n",
       "      <td>RIVERSIDE</td>\n",
       "      <td>06065</td>\n",
       "      <td>0 - 17 years</td>\n",
       "      <td>Female</td>\n",
       "      <td>White</td>\n",
       "      <td>Non-Hispanic/Latino</td>\n",
       "      <td>Missing</td>\n",
       "      <td>Missing</td>\n",
       "      <td>Laboratory-confirmed case</td>\n",
       "      <td>Symptomatic</td>\n",
       "      <td>No</td>\n",
       "      <td>Missing</td>\n",
       "      <td>No</td>\n",
       "      <td>1.0</td>\n",
       "      <td>NaN</td>\n",
       "    </tr>\n",
       "    <tr>\n",
       "      <th>3</th>\n",
       "      <td>2020-08</td>\n",
       "      <td>CA</td>\n",
       "      <td>06</td>\n",
       "      <td>RIVERSIDE</td>\n",
       "      <td>06065</td>\n",
       "      <td>0 - 17 years</td>\n",
       "      <td>Female</td>\n",
       "      <td>White</td>\n",
       "      <td>Non-Hispanic/Latino</td>\n",
       "      <td>Missing</td>\n",
       "      <td>Missing</td>\n",
       "      <td>Laboratory-confirmed case</td>\n",
       "      <td>Symptomatic</td>\n",
       "      <td>No</td>\n",
       "      <td>Missing</td>\n",
       "      <td>No</td>\n",
       "      <td>0.0</td>\n",
       "      <td>NaN</td>\n",
       "    </tr>\n",
       "    <tr>\n",
       "      <th>4</th>\n",
       "      <td>2020-08</td>\n",
       "      <td>CA</td>\n",
       "      <td>06</td>\n",
       "      <td>RIVERSIDE</td>\n",
       "      <td>06065</td>\n",
       "      <td>0 - 17 years</td>\n",
       "      <td>Female</td>\n",
       "      <td>White</td>\n",
       "      <td>Non-Hispanic/Latino</td>\n",
       "      <td>Missing</td>\n",
       "      <td>Missing</td>\n",
       "      <td>Laboratory-confirmed case</td>\n",
       "      <td>Unknown</td>\n",
       "      <td>No</td>\n",
       "      <td>Missing</td>\n",
       "      <td>No</td>\n",
       "      <td>NaN</td>\n",
       "      <td>NaN</td>\n",
       "    </tr>\n",
       "    <tr>\n",
       "      <th>...</th>\n",
       "      <td>...</td>\n",
       "      <td>...</td>\n",
       "      <td>...</td>\n",
       "      <td>...</td>\n",
       "      <td>...</td>\n",
       "      <td>...</td>\n",
       "      <td>...</td>\n",
       "      <td>...</td>\n",
       "      <td>...</td>\n",
       "      <td>...</td>\n",
       "      <td>...</td>\n",
       "      <td>...</td>\n",
       "      <td>...</td>\n",
       "      <td>...</td>\n",
       "      <td>...</td>\n",
       "      <td>...</td>\n",
       "      <td>...</td>\n",
       "      <td>...</td>\n",
       "    </tr>\n",
       "    <tr>\n",
       "      <th>4995</th>\n",
       "      <td>2021-01</td>\n",
       "      <td>CA</td>\n",
       "      <td>06</td>\n",
       "      <td>RIVERSIDE</td>\n",
       "      <td>06065</td>\n",
       "      <td>50 to 64 years</td>\n",
       "      <td>Male</td>\n",
       "      <td>Unknown</td>\n",
       "      <td>Hispanic/Latino</td>\n",
       "      <td>Missing</td>\n",
       "      <td>Missing</td>\n",
       "      <td>Laboratory-confirmed case</td>\n",
       "      <td>Symptomatic</td>\n",
       "      <td>Missing</td>\n",
       "      <td>Missing</td>\n",
       "      <td>No</td>\n",
       "      <td>NaN</td>\n",
       "      <td>NaN</td>\n",
       "    </tr>\n",
       "    <tr>\n",
       "      <th>4996</th>\n",
       "      <td>2021-01</td>\n",
       "      <td>CA</td>\n",
       "      <td>06</td>\n",
       "      <td>RIVERSIDE</td>\n",
       "      <td>06065</td>\n",
       "      <td>50 to 64 years</td>\n",
       "      <td>Male</td>\n",
       "      <td>Unknown</td>\n",
       "      <td>Hispanic/Latino</td>\n",
       "      <td>Missing</td>\n",
       "      <td>Missing</td>\n",
       "      <td>Laboratory-confirmed case</td>\n",
       "      <td>Unknown</td>\n",
       "      <td>Missing</td>\n",
       "      <td>Missing</td>\n",
       "      <td>No</td>\n",
       "      <td>NaN</td>\n",
       "      <td>NaN</td>\n",
       "    </tr>\n",
       "    <tr>\n",
       "      <th>4997</th>\n",
       "      <td>2021-01</td>\n",
       "      <td>CA</td>\n",
       "      <td>06</td>\n",
       "      <td>RIVERSIDE</td>\n",
       "      <td>06065</td>\n",
       "      <td>50 to 64 years</td>\n",
       "      <td>Male</td>\n",
       "      <td>Unknown</td>\n",
       "      <td>Hispanic/Latino</td>\n",
       "      <td>Missing</td>\n",
       "      <td>Missing</td>\n",
       "      <td>Laboratory-confirmed case</td>\n",
       "      <td>Unknown</td>\n",
       "      <td>Missing</td>\n",
       "      <td>Missing</td>\n",
       "      <td>No</td>\n",
       "      <td>NaN</td>\n",
       "      <td>NaN</td>\n",
       "    </tr>\n",
       "    <tr>\n",
       "      <th>4998</th>\n",
       "      <td>2021-01</td>\n",
       "      <td>CA</td>\n",
       "      <td>06</td>\n",
       "      <td>RIVERSIDE</td>\n",
       "      <td>06065</td>\n",
       "      <td>50 to 64 years</td>\n",
       "      <td>Male</td>\n",
       "      <td>Unknown</td>\n",
       "      <td>Hispanic/Latino</td>\n",
       "      <td>Missing</td>\n",
       "      <td>Missing</td>\n",
       "      <td>Laboratory-confirmed case</td>\n",
       "      <td>Symptomatic</td>\n",
       "      <td>No</td>\n",
       "      <td>Missing</td>\n",
       "      <td>No</td>\n",
       "      <td>NaN</td>\n",
       "      <td>NaN</td>\n",
       "    </tr>\n",
       "    <tr>\n",
       "      <th>4999</th>\n",
       "      <td>2021-01</td>\n",
       "      <td>CA</td>\n",
       "      <td>06</td>\n",
       "      <td>RIVERSIDE</td>\n",
       "      <td>06065</td>\n",
       "      <td>50 to 64 years</td>\n",
       "      <td>Male</td>\n",
       "      <td>Unknown</td>\n",
       "      <td>Hispanic/Latino</td>\n",
       "      <td>Missing</td>\n",
       "      <td>Missing</td>\n",
       "      <td>Laboratory-confirmed case</td>\n",
       "      <td>Unknown</td>\n",
       "      <td>Missing</td>\n",
       "      <td>Missing</td>\n",
       "      <td>No</td>\n",
       "      <td>NaN</td>\n",
       "      <td>NaN</td>\n",
       "    </tr>\n",
       "  </tbody>\n",
       "</table>\n",
       "<p>5000 rows × 18 columns</p>\n",
       "</div>"
      ],
      "text/plain": [
       "     case_month res_state state_fips_code res_county county_fips_code  \\\n",
       "0       2020-08        CA              06  RIVERSIDE            06065   \n",
       "1       2020-08        CA              06  RIVERSIDE            06065   \n",
       "2       2020-08        CA              06  RIVERSIDE            06065   \n",
       "3       2020-08        CA              06  RIVERSIDE            06065   \n",
       "4       2020-08        CA              06  RIVERSIDE            06065   \n",
       "...         ...       ...             ...        ...              ...   \n",
       "4995    2021-01        CA              06  RIVERSIDE            06065   \n",
       "4996    2021-01        CA              06  RIVERSIDE            06065   \n",
       "4997    2021-01        CA              06  RIVERSIDE            06065   \n",
       "4998    2021-01        CA              06  RIVERSIDE            06065   \n",
       "4999    2021-01        CA              06  RIVERSIDE            06065   \n",
       "\n",
       "           age_group     sex     race            ethnicity  process  \\\n",
       "0       0 - 17 years  Female    White  Non-Hispanic/Latino  Missing   \n",
       "1       0 - 17 years  Female    White  Non-Hispanic/Latino  Missing   \n",
       "2       0 - 17 years  Female    White  Non-Hispanic/Latino  Missing   \n",
       "3       0 - 17 years  Female    White  Non-Hispanic/Latino  Missing   \n",
       "4       0 - 17 years  Female    White  Non-Hispanic/Latino  Missing   \n",
       "...              ...     ...      ...                  ...      ...   \n",
       "4995  50 to 64 years    Male  Unknown      Hispanic/Latino  Missing   \n",
       "4996  50 to 64 years    Male  Unknown      Hispanic/Latino  Missing   \n",
       "4997  50 to 64 years    Male  Unknown      Hispanic/Latino  Missing   \n",
       "4998  50 to 64 years    Male  Unknown      Hispanic/Latino  Missing   \n",
       "4999  50 to 64 years    Male  Unknown      Hispanic/Latino  Missing   \n",
       "\n",
       "     exposure_yn             current_status symptom_status  hosp_yn   icu_yn  \\\n",
       "0        Missing  Laboratory-confirmed case        Unknown       No  Missing   \n",
       "1        Missing  Laboratory-confirmed case    Symptomatic       No  Missing   \n",
       "2        Missing  Laboratory-confirmed case    Symptomatic       No  Missing   \n",
       "3        Missing  Laboratory-confirmed case    Symptomatic       No  Missing   \n",
       "4        Missing  Laboratory-confirmed case        Unknown       No  Missing   \n",
       "...          ...                        ...            ...      ...      ...   \n",
       "4995     Missing  Laboratory-confirmed case    Symptomatic  Missing  Missing   \n",
       "4996     Missing  Laboratory-confirmed case        Unknown  Missing  Missing   \n",
       "4997     Missing  Laboratory-confirmed case        Unknown  Missing  Missing   \n",
       "4998     Missing  Laboratory-confirmed case    Symptomatic       No  Missing   \n",
       "4999     Missing  Laboratory-confirmed case        Unknown  Missing  Missing   \n",
       "\n",
       "     death_yn case_onset_interval underlying_conditions_yn  \n",
       "0          No                 NaN                      NaN  \n",
       "1          No                 0.0                      NaN  \n",
       "2          No                 1.0                      NaN  \n",
       "3          No                 0.0                      NaN  \n",
       "4          No                 NaN                      NaN  \n",
       "...       ...                 ...                      ...  \n",
       "4995       No                 NaN                      NaN  \n",
       "4996       No                 NaN                      NaN  \n",
       "4997       No                 NaN                      NaN  \n",
       "4998       No                 NaN                      NaN  \n",
       "4999       No                 NaN                      NaN  \n",
       "\n",
       "[5000 rows x 18 columns]"
      ]
     },
     "execution_count": 14,
     "metadata": {},
     "output_type": "execute_result"
    }
   ],
   "source": [
    "riverside = client.get(\"n8mc-b4w4\",res_state=\"CA\",res_county=\"RIVERSIDE\", limit=5000)\n",
    "\n",
    "riverside_df = pd.DataFrame.from_records(riverside)\n",
    "riverside_df"
   ]
  },
  {
   "cell_type": "markdown",
   "id": "137d74d8-d87d-46ff-812d-5a6816e93e69",
   "metadata": {},
   "source": [
    "The dataframe shows 5000 cases from riverside county "
   ]
  },
  {
   "cell_type": "code",
   "execution_count": 15,
   "id": "5846bd9a-7091-412a-be91-85cf7434e4e6",
   "metadata": {},
   "outputs": [
    {
     "data": {
      "text/plain": [
       "<AxesSubplot:xlabel='case_month'>"
      ]
     },
     "execution_count": 15,
     "metadata": {},
     "output_type": "execute_result"
    },
    {
     "data": {
      "image/png": "[encoded data removed]",
      "text/plain": [
       "<Figure size 720x360 with 1 Axes>"
      ]
     },
     "metadata": {
      "needs_background": "light"
     },
     "output_type": "display_data"
    }
   ],
   "source": [
    "riverside_df.groupby('case_month')['race'].count().plot(kind='bar', rot=0, figsize=(10,5))"
   ]
  },
  {
   "cell_type": "markdown",
   "id": "6a1bb56f-cfb0-4b4d-87b4-cc42f031b527",
   "metadata": {},
   "source": [
    "The graph shows the timeline of the cases grow in riverside county "
   ]
  },
  {
   "cell_type": "code",
   "execution_count": 16,
   "id": "943aa218-de03-456e-807f-922ebad85af3",
   "metadata": {},
   "outputs": [
    {
     "data": {
      "text/plain": [
       "<AxesSubplot:xlabel='age_group'>"
      ]
     },
     "execution_count": 16,
     "metadata": {},
     "output_type": "execute_result"
    },
    {
     "data": {
      "image/png": "[encoded data removed]",
      "text/plain": [
       "<Figure size 576x360 with 1 Axes>"
      ]
     },
     "metadata": {
      "needs_background": "light"
     },
     "output_type": "display_data"
    }
   ],
   "source": [
    "riverside_df.groupby('age_group')['race'].count().plot(kind='bar', rot=0, figsize=(8,5))"
   ]
  },
  {
   "cell_type": "markdown",
   "id": "867f8bdd-f970-4509-82c9-f0ec69ff6a60",
   "metadata": {},
   "source": [
    "This graph shows the age distribution of riverside county "
   ]
  },
  {
   "cell_type": "code",
   "execution_count": null,
   "id": "a372987e-d408-4b0b-9d31-3a3af134d153",
   "metadata": {},
   "outputs": [],
   "source": []
  }
 ],
 "metadata": {
  "kernelspec": {
   "display_name": "Python 3",
   "language": "python",
   "name": "python3"
  },
  "language_info": {
   "codemirror_mode": {
    "name": "ipython",
    "version": 3
   },
   "file_extension": ".py",
   "mimetype": "text/x-python",
   "name": "python",
   "nbconvert_exporter": "python",
   "pygments_lexer": "ipython3",
   "version": "3.8.10"
  }
 },
 "nbformat": 4,
 "nbformat_minor": 5
}
